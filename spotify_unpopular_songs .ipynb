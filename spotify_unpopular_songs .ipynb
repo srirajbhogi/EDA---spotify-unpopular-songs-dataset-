{
 "cells": [
  {
   "cell_type": "code",
   "execution_count": 3,
   "id": "74014b46",
   "metadata": {},
   "outputs": [],
   "source": [
    "#importing the libraries in the dataset \n",
    "import pandas as pd \n",
    "import numpy as np\n",
    "import seaborn as sns \n",
    "import matplotlib.pyplot as plt"
   ]
  },
  {
   "cell_type": "markdown",
   "id": "abaf7cce",
   "metadata": {},
   "source": [
    "# knowing the dataset"
   ]
  },
  {
   "cell_type": "code",
   "execution_count": 4,
   "id": "71e1f192",
   "metadata": {},
   "outputs": [
    {
     "data": {
      "text/html": [
       "<div>\n",
       "<style scoped>\n",
       "    .dataframe tbody tr th:only-of-type {\n",
       "        vertical-align: middle;\n",
       "    }\n",
       "\n",
       "    .dataframe tbody tr th {\n",
       "        vertical-align: top;\n",
       "    }\n",
       "\n",
       "    .dataframe thead th {\n",
       "        text-align: right;\n",
       "    }\n",
       "</style>\n",
       "<table border=\"1\" class=\"dataframe\">\n",
       "  <thead>\n",
       "    <tr style=\"text-align: right;\">\n",
       "      <th></th>\n",
       "      <th>danceability</th>\n",
       "      <th>energy</th>\n",
       "      <th>key</th>\n",
       "      <th>loudness</th>\n",
       "      <th>mode</th>\n",
       "      <th>speechiness</th>\n",
       "      <th>acousticness</th>\n",
       "      <th>instrumentalness</th>\n",
       "      <th>liveness</th>\n",
       "      <th>valence</th>\n",
       "      <th>tempo</th>\n",
       "      <th>duration_ms</th>\n",
       "      <th>explicit</th>\n",
       "      <th>popularity</th>\n",
       "      <th>track_name</th>\n",
       "      <th>track_artist</th>\n",
       "      <th>track_id</th>\n",
       "    </tr>\n",
       "  </thead>\n",
       "  <tbody>\n",
       "    <tr>\n",
       "      <th>0</th>\n",
       "      <td>0.530</td>\n",
       "      <td>0.7700</td>\n",
       "      <td>4</td>\n",
       "      <td>-6.633</td>\n",
       "      <td>0</td>\n",
       "      <td>0.0389</td>\n",
       "      <td>0.284</td>\n",
       "      <td>0.501000</td>\n",
       "      <td>0.744</td>\n",
       "      <td>0.6230</td>\n",
       "      <td>120.144</td>\n",
       "      <td>225696</td>\n",
       "      <td>False</td>\n",
       "      <td>2</td>\n",
       "      <td>No Regrets</td>\n",
       "      <td>James Reeder</td>\n",
       "      <td>6f2c4a9lNx8aowZJngv7cJ</td>\n",
       "    </tr>\n",
       "    <tr>\n",
       "      <th>1</th>\n",
       "      <td>0.565</td>\n",
       "      <td>0.7300</td>\n",
       "      <td>1</td>\n",
       "      <td>-6.063</td>\n",
       "      <td>1</td>\n",
       "      <td>0.0730</td>\n",
       "      <td>0.365</td>\n",
       "      <td>0.000000</td>\n",
       "      <td>0.237</td>\n",
       "      <td>0.5110</td>\n",
       "      <td>130.026</td>\n",
       "      <td>158093</td>\n",
       "      <td>False</td>\n",
       "      <td>2</td>\n",
       "      <td>Wild Life</td>\n",
       "      <td>James Reeder</td>\n",
       "      <td>3fTs52jsDzSuVLsifxNKO8</td>\n",
       "    </tr>\n",
       "    <tr>\n",
       "      <th>2</th>\n",
       "      <td>0.427</td>\n",
       "      <td>0.5460</td>\n",
       "      <td>4</td>\n",
       "      <td>-8.727</td>\n",
       "      <td>1</td>\n",
       "      <td>0.0849</td>\n",
       "      <td>0.539</td>\n",
       "      <td>0.015200</td>\n",
       "      <td>0.368</td>\n",
       "      <td>0.4350</td>\n",
       "      <td>78.345</td>\n",
       "      <td>167262</td>\n",
       "      <td>False</td>\n",
       "      <td>2</td>\n",
       "      <td>Fangs</td>\n",
       "      <td>James Reeder</td>\n",
       "      <td>6NPafqavrv0icaIHMQnXDy</td>\n",
       "    </tr>\n",
       "    <tr>\n",
       "      <th>3</th>\n",
       "      <td>0.421</td>\n",
       "      <td>0.5310</td>\n",
       "      <td>7</td>\n",
       "      <td>-5.516</td>\n",
       "      <td>1</td>\n",
       "      <td>0.0262</td>\n",
       "      <td>0.706</td>\n",
       "      <td>0.000208</td>\n",
       "      <td>0.110</td>\n",
       "      <td>0.3830</td>\n",
       "      <td>85.080</td>\n",
       "      <td>236832</td>\n",
       "      <td>False</td>\n",
       "      <td>2</td>\n",
       "      <td>Afterburner</td>\n",
       "      <td>James Reeder</td>\n",
       "      <td>3vGmhxveURgmlZStvo0uc1</td>\n",
       "    </tr>\n",
       "    <tr>\n",
       "      <th>4</th>\n",
       "      <td>0.537</td>\n",
       "      <td>0.8040</td>\n",
       "      <td>8</td>\n",
       "      <td>-7.378</td>\n",
       "      <td>0</td>\n",
       "      <td>0.1570</td>\n",
       "      <td>0.379</td>\n",
       "      <td>0.000489</td>\n",
       "      <td>0.323</td>\n",
       "      <td>0.5430</td>\n",
       "      <td>139.950</td>\n",
       "      <td>239400</td>\n",
       "      <td>False</td>\n",
       "      <td>2</td>\n",
       "      <td>Hellfire Rising</td>\n",
       "      <td>James Reeder</td>\n",
       "      <td>4O2qRbfCHzMMgfbw9DBdGf</td>\n",
       "    </tr>\n",
       "    <tr>\n",
       "      <th>...</th>\n",
       "      <td>...</td>\n",
       "      <td>...</td>\n",
       "      <td>...</td>\n",
       "      <td>...</td>\n",
       "      <td>...</td>\n",
       "      <td>...</td>\n",
       "      <td>...</td>\n",
       "      <td>...</td>\n",
       "      <td>...</td>\n",
       "      <td>...</td>\n",
       "      <td>...</td>\n",
       "      <td>...</td>\n",
       "      <td>...</td>\n",
       "      <td>...</td>\n",
       "      <td>...</td>\n",
       "      <td>...</td>\n",
       "      <td>...</td>\n",
       "    </tr>\n",
       "    <tr>\n",
       "      <th>10872</th>\n",
       "      <td>0.686</td>\n",
       "      <td>0.1320</td>\n",
       "      <td>0</td>\n",
       "      <td>-20.363</td>\n",
       "      <td>1</td>\n",
       "      <td>0.0339</td>\n",
       "      <td>0.268</td>\n",
       "      <td>0.001050</td>\n",
       "      <td>0.181</td>\n",
       "      <td>0.4910</td>\n",
       "      <td>95.987</td>\n",
       "      <td>285286</td>\n",
       "      <td>False</td>\n",
       "      <td>7</td>\n",
       "      <td>Bugs n Toes</td>\n",
       "      <td>Good Girl, Bad Boy</td>\n",
       "      <td>2ykd7eWIVcI3ck7x4OR9T1</td>\n",
       "    </tr>\n",
       "    <tr>\n",
       "      <th>10873</th>\n",
       "      <td>0.532</td>\n",
       "      <td>0.0573</td>\n",
       "      <td>11</td>\n",
       "      <td>-20.476</td>\n",
       "      <td>0</td>\n",
       "      <td>0.0479</td>\n",
       "      <td>0.900</td>\n",
       "      <td>0.087700</td>\n",
       "      <td>0.111</td>\n",
       "      <td>0.0731</td>\n",
       "      <td>114.123</td>\n",
       "      <td>360729</td>\n",
       "      <td>False</td>\n",
       "      <td>7</td>\n",
       "      <td>Scattered Thoughts</td>\n",
       "      <td>Good Girl, Bad Boy</td>\n",
       "      <td>4ceFgUuLwydkHyMK9qnMW8</td>\n",
       "    </tr>\n",
       "    <tr>\n",
       "      <th>10874</th>\n",
       "      <td>0.589</td>\n",
       "      <td>0.0308</td>\n",
       "      <td>3</td>\n",
       "      <td>-27.237</td>\n",
       "      <td>1</td>\n",
       "      <td>0.0405</td>\n",
       "      <td>0.943</td>\n",
       "      <td>0.014200</td>\n",
       "      <td>0.106</td>\n",
       "      <td>0.5040</td>\n",
       "      <td>83.952</td>\n",
       "      <td>286585</td>\n",
       "      <td>False</td>\n",
       "      <td>7</td>\n",
       "      <td>Travelin Bug</td>\n",
       "      <td>Good Girl, Bad Boy</td>\n",
       "      <td>5HASiM0dbIU1saPBEAlVfw</td>\n",
       "    </tr>\n",
       "    <tr>\n",
       "      <th>10875</th>\n",
       "      <td>0.669</td>\n",
       "      <td>0.0381</td>\n",
       "      <td>7</td>\n",
       "      <td>-18.631</td>\n",
       "      <td>1</td>\n",
       "      <td>0.0382</td>\n",
       "      <td>0.783</td>\n",
       "      <td>0.000000</td>\n",
       "      <td>0.182</td>\n",
       "      <td>0.1730</td>\n",
       "      <td>99.841</td>\n",
       "      <td>349454</td>\n",
       "      <td>False</td>\n",
       "      <td>7</td>\n",
       "      <td>Goodnight</td>\n",
       "      <td>Good Girl, Bad Boy</td>\n",
       "      <td>7eqGtA8qyFgozTSBqGrEws</td>\n",
       "    </tr>\n",
       "    <tr>\n",
       "      <th>10876</th>\n",
       "      <td>0.818</td>\n",
       "      <td>0.1460</td>\n",
       "      <td>9</td>\n",
       "      <td>-19.684</td>\n",
       "      <td>0</td>\n",
       "      <td>0.1230</td>\n",
       "      <td>0.828</td>\n",
       "      <td>0.959000</td>\n",
       "      <td>0.108</td>\n",
       "      <td>0.2350</td>\n",
       "      <td>110.026</td>\n",
       "      <td>74180</td>\n",
       "      <td>False</td>\n",
       "      <td>14</td>\n",
       "      <td>Paranoid</td>\n",
       "      <td>Talen Talea</td>\n",
       "      <td>5cP6IfMkPIxMDEzemOJ6OF</td>\n",
       "    </tr>\n",
       "  </tbody>\n",
       "</table>\n",
       "<p>10877 rows × 17 columns</p>\n",
       "</div>"
      ],
      "text/plain": [
       "       danceability  energy  key  loudness  mode  speechiness  acousticness  \\\n",
       "0             0.530  0.7700    4    -6.633     0       0.0389         0.284   \n",
       "1             0.565  0.7300    1    -6.063     1       0.0730         0.365   \n",
       "2             0.427  0.5460    4    -8.727     1       0.0849         0.539   \n",
       "3             0.421  0.5310    7    -5.516     1       0.0262         0.706   \n",
       "4             0.537  0.8040    8    -7.378     0       0.1570         0.379   \n",
       "...             ...     ...  ...       ...   ...          ...           ...   \n",
       "10872         0.686  0.1320    0   -20.363     1       0.0339         0.268   \n",
       "10873         0.532  0.0573   11   -20.476     0       0.0479         0.900   \n",
       "10874         0.589  0.0308    3   -27.237     1       0.0405         0.943   \n",
       "10875         0.669  0.0381    7   -18.631     1       0.0382         0.783   \n",
       "10876         0.818  0.1460    9   -19.684     0       0.1230         0.828   \n",
       "\n",
       "       instrumentalness  liveness  valence    tempo  duration_ms  explicit  \\\n",
       "0              0.501000     0.744   0.6230  120.144       225696     False   \n",
       "1              0.000000     0.237   0.5110  130.026       158093     False   \n",
       "2              0.015200     0.368   0.4350   78.345       167262     False   \n",
       "3              0.000208     0.110   0.3830   85.080       236832     False   \n",
       "4              0.000489     0.323   0.5430  139.950       239400     False   \n",
       "...                 ...       ...      ...      ...          ...       ...   \n",
       "10872          0.001050     0.181   0.4910   95.987       285286     False   \n",
       "10873          0.087700     0.111   0.0731  114.123       360729     False   \n",
       "10874          0.014200     0.106   0.5040   83.952       286585     False   \n",
       "10875          0.000000     0.182   0.1730   99.841       349454     False   \n",
       "10876          0.959000     0.108   0.2350  110.026        74180     False   \n",
       "\n",
       "       popularity          track_name        track_artist  \\\n",
       "0               2          No Regrets        James Reeder   \n",
       "1               2           Wild Life        James Reeder   \n",
       "2               2               Fangs        James Reeder   \n",
       "3               2         Afterburner        James Reeder   \n",
       "4               2     Hellfire Rising        James Reeder   \n",
       "...           ...                 ...                 ...   \n",
       "10872           7         Bugs n Toes  Good Girl, Bad Boy   \n",
       "10873           7  Scattered Thoughts  Good Girl, Bad Boy   \n",
       "10874           7        Travelin Bug  Good Girl, Bad Boy   \n",
       "10875           7           Goodnight  Good Girl, Bad Boy   \n",
       "10876          14            Paranoid         Talen Talea   \n",
       "\n",
       "                     track_id  \n",
       "0      6f2c4a9lNx8aowZJngv7cJ  \n",
       "1      3fTs52jsDzSuVLsifxNKO8  \n",
       "2      6NPafqavrv0icaIHMQnXDy  \n",
       "3      3vGmhxveURgmlZStvo0uc1  \n",
       "4      4O2qRbfCHzMMgfbw9DBdGf  \n",
       "...                       ...  \n",
       "10872  2ykd7eWIVcI3ck7x4OR9T1  \n",
       "10873  4ceFgUuLwydkHyMK9qnMW8  \n",
       "10874  5HASiM0dbIU1saPBEAlVfw  \n",
       "10875  7eqGtA8qyFgozTSBqGrEws  \n",
       "10876  5cP6IfMkPIxMDEzemOJ6OF  \n",
       "\n",
       "[10877 rows x 17 columns]"
      ]
     },
     "execution_count": 4,
     "metadata": {},
     "output_type": "execute_result"
    }
   ],
   "source": [
    "#loading the data \n",
    "df = pd.read_csv(\"unpopular_songs.csv\")\n",
    "df"
   ]
  },
  {
   "cell_type": "markdown",
   "id": "67298238",
   "metadata": {},
   "source": [
    "#### Display first 5 rows in dataset"
   ]
  },
  {
   "cell_type": "code",
   "execution_count": 5,
   "id": "c564ce4b",
   "metadata": {},
   "outputs": [
    {
     "data": {
      "text/html": [
       "<div>\n",
       "<style scoped>\n",
       "    .dataframe tbody tr th:only-of-type {\n",
       "        vertical-align: middle;\n",
       "    }\n",
       "\n",
       "    .dataframe tbody tr th {\n",
       "        vertical-align: top;\n",
       "    }\n",
       "\n",
       "    .dataframe thead th {\n",
       "        text-align: right;\n",
       "    }\n",
       "</style>\n",
       "<table border=\"1\" class=\"dataframe\">\n",
       "  <thead>\n",
       "    <tr style=\"text-align: right;\">\n",
       "      <th></th>\n",
       "      <th>danceability</th>\n",
       "      <th>energy</th>\n",
       "      <th>key</th>\n",
       "      <th>loudness</th>\n",
       "      <th>mode</th>\n",
       "      <th>speechiness</th>\n",
       "      <th>acousticness</th>\n",
       "      <th>instrumentalness</th>\n",
       "      <th>liveness</th>\n",
       "      <th>valence</th>\n",
       "      <th>tempo</th>\n",
       "      <th>duration_ms</th>\n",
       "      <th>explicit</th>\n",
       "      <th>popularity</th>\n",
       "      <th>track_name</th>\n",
       "      <th>track_artist</th>\n",
       "      <th>track_id</th>\n",
       "    </tr>\n",
       "  </thead>\n",
       "  <tbody>\n",
       "    <tr>\n",
       "      <th>0</th>\n",
       "      <td>0.530</td>\n",
       "      <td>0.770</td>\n",
       "      <td>4</td>\n",
       "      <td>-6.633</td>\n",
       "      <td>0</td>\n",
       "      <td>0.0389</td>\n",
       "      <td>0.284</td>\n",
       "      <td>0.501000</td>\n",
       "      <td>0.744</td>\n",
       "      <td>0.623</td>\n",
       "      <td>120.144</td>\n",
       "      <td>225696</td>\n",
       "      <td>False</td>\n",
       "      <td>2</td>\n",
       "      <td>No Regrets</td>\n",
       "      <td>James Reeder</td>\n",
       "      <td>6f2c4a9lNx8aowZJngv7cJ</td>\n",
       "    </tr>\n",
       "    <tr>\n",
       "      <th>1</th>\n",
       "      <td>0.565</td>\n",
       "      <td>0.730</td>\n",
       "      <td>1</td>\n",
       "      <td>-6.063</td>\n",
       "      <td>1</td>\n",
       "      <td>0.0730</td>\n",
       "      <td>0.365</td>\n",
       "      <td>0.000000</td>\n",
       "      <td>0.237</td>\n",
       "      <td>0.511</td>\n",
       "      <td>130.026</td>\n",
       "      <td>158093</td>\n",
       "      <td>False</td>\n",
       "      <td>2</td>\n",
       "      <td>Wild Life</td>\n",
       "      <td>James Reeder</td>\n",
       "      <td>3fTs52jsDzSuVLsifxNKO8</td>\n",
       "    </tr>\n",
       "    <tr>\n",
       "      <th>2</th>\n",
       "      <td>0.427</td>\n",
       "      <td>0.546</td>\n",
       "      <td>4</td>\n",
       "      <td>-8.727</td>\n",
       "      <td>1</td>\n",
       "      <td>0.0849</td>\n",
       "      <td>0.539</td>\n",
       "      <td>0.015200</td>\n",
       "      <td>0.368</td>\n",
       "      <td>0.435</td>\n",
       "      <td>78.345</td>\n",
       "      <td>167262</td>\n",
       "      <td>False</td>\n",
       "      <td>2</td>\n",
       "      <td>Fangs</td>\n",
       "      <td>James Reeder</td>\n",
       "      <td>6NPafqavrv0icaIHMQnXDy</td>\n",
       "    </tr>\n",
       "    <tr>\n",
       "      <th>3</th>\n",
       "      <td>0.421</td>\n",
       "      <td>0.531</td>\n",
       "      <td>7</td>\n",
       "      <td>-5.516</td>\n",
       "      <td>1</td>\n",
       "      <td>0.0262</td>\n",
       "      <td>0.706</td>\n",
       "      <td>0.000208</td>\n",
       "      <td>0.110</td>\n",
       "      <td>0.383</td>\n",
       "      <td>85.080</td>\n",
       "      <td>236832</td>\n",
       "      <td>False</td>\n",
       "      <td>2</td>\n",
       "      <td>Afterburner</td>\n",
       "      <td>James Reeder</td>\n",
       "      <td>3vGmhxveURgmlZStvo0uc1</td>\n",
       "    </tr>\n",
       "    <tr>\n",
       "      <th>4</th>\n",
       "      <td>0.537</td>\n",
       "      <td>0.804</td>\n",
       "      <td>8</td>\n",
       "      <td>-7.378</td>\n",
       "      <td>0</td>\n",
       "      <td>0.1570</td>\n",
       "      <td>0.379</td>\n",
       "      <td>0.000489</td>\n",
       "      <td>0.323</td>\n",
       "      <td>0.543</td>\n",
       "      <td>139.950</td>\n",
       "      <td>239400</td>\n",
       "      <td>False</td>\n",
       "      <td>2</td>\n",
       "      <td>Hellfire Rising</td>\n",
       "      <td>James Reeder</td>\n",
       "      <td>4O2qRbfCHzMMgfbw9DBdGf</td>\n",
       "    </tr>\n",
       "  </tbody>\n",
       "</table>\n",
       "</div>"
      ],
      "text/plain": [
       "   danceability  energy  key  loudness  mode  speechiness  acousticness  \\\n",
       "0         0.530   0.770    4    -6.633     0       0.0389         0.284   \n",
       "1         0.565   0.730    1    -6.063     1       0.0730         0.365   \n",
       "2         0.427   0.546    4    -8.727     1       0.0849         0.539   \n",
       "3         0.421   0.531    7    -5.516     1       0.0262         0.706   \n",
       "4         0.537   0.804    8    -7.378     0       0.1570         0.379   \n",
       "\n",
       "   instrumentalness  liveness  valence    tempo  duration_ms  explicit  \\\n",
       "0          0.501000     0.744    0.623  120.144       225696     False   \n",
       "1          0.000000     0.237    0.511  130.026       158093     False   \n",
       "2          0.015200     0.368    0.435   78.345       167262     False   \n",
       "3          0.000208     0.110    0.383   85.080       236832     False   \n",
       "4          0.000489     0.323    0.543  139.950       239400     False   \n",
       "\n",
       "   popularity       track_name  track_artist                track_id  \n",
       "0           2       No Regrets  James Reeder  6f2c4a9lNx8aowZJngv7cJ  \n",
       "1           2        Wild Life  James Reeder  3fTs52jsDzSuVLsifxNKO8  \n",
       "2           2            Fangs  James Reeder  6NPafqavrv0icaIHMQnXDy  \n",
       "3           2      Afterburner  James Reeder  3vGmhxveURgmlZStvo0uc1  \n",
       "4           2  Hellfire Rising  James Reeder  4O2qRbfCHzMMgfbw9DBdGf  "
      ]
     },
     "execution_count": 5,
     "metadata": {},
     "output_type": "execute_result"
    }
   ],
   "source": [
    "df.head()"
   ]
  },
  {
   "cell_type": "markdown",
   "id": "4b277fa3",
   "metadata": {},
   "source": [
    "#### Display last 5 row in dataset"
   ]
  },
  {
   "cell_type": "code",
   "execution_count": 5,
   "id": "e71eed9e",
   "metadata": {},
   "outputs": [
    {
     "data": {
      "text/html": [
       "<div>\n",
       "<style scoped>\n",
       "    .dataframe tbody tr th:only-of-type {\n",
       "        vertical-align: middle;\n",
       "    }\n",
       "\n",
       "    .dataframe tbody tr th {\n",
       "        vertical-align: top;\n",
       "    }\n",
       "\n",
       "    .dataframe thead th {\n",
       "        text-align: right;\n",
       "    }\n",
       "</style>\n",
       "<table border=\"1\" class=\"dataframe\">\n",
       "  <thead>\n",
       "    <tr style=\"text-align: right;\">\n",
       "      <th></th>\n",
       "      <th>danceability</th>\n",
       "      <th>energy</th>\n",
       "      <th>key</th>\n",
       "      <th>loudness</th>\n",
       "      <th>mode</th>\n",
       "      <th>speechiness</th>\n",
       "      <th>acousticness</th>\n",
       "      <th>instrumentalness</th>\n",
       "      <th>liveness</th>\n",
       "      <th>valence</th>\n",
       "      <th>tempo</th>\n",
       "      <th>duration_ms</th>\n",
       "      <th>explicit</th>\n",
       "      <th>popularity</th>\n",
       "      <th>track_name</th>\n",
       "      <th>track_artist</th>\n",
       "      <th>track_id</th>\n",
       "    </tr>\n",
       "  </thead>\n",
       "  <tbody>\n",
       "    <tr>\n",
       "      <th>10872</th>\n",
       "      <td>0.686</td>\n",
       "      <td>0.1320</td>\n",
       "      <td>0</td>\n",
       "      <td>-20.363</td>\n",
       "      <td>1</td>\n",
       "      <td>0.0339</td>\n",
       "      <td>0.268</td>\n",
       "      <td>0.00105</td>\n",
       "      <td>0.181</td>\n",
       "      <td>0.4910</td>\n",
       "      <td>95.987</td>\n",
       "      <td>285286</td>\n",
       "      <td>False</td>\n",
       "      <td>7</td>\n",
       "      <td>Bugs n Toes</td>\n",
       "      <td>Good Girl, Bad Boy</td>\n",
       "      <td>2ykd7eWIVcI3ck7x4OR9T1</td>\n",
       "    </tr>\n",
       "    <tr>\n",
       "      <th>10873</th>\n",
       "      <td>0.532</td>\n",
       "      <td>0.0573</td>\n",
       "      <td>11</td>\n",
       "      <td>-20.476</td>\n",
       "      <td>0</td>\n",
       "      <td>0.0479</td>\n",
       "      <td>0.900</td>\n",
       "      <td>0.08770</td>\n",
       "      <td>0.111</td>\n",
       "      <td>0.0731</td>\n",
       "      <td>114.123</td>\n",
       "      <td>360729</td>\n",
       "      <td>False</td>\n",
       "      <td>7</td>\n",
       "      <td>Scattered Thoughts</td>\n",
       "      <td>Good Girl, Bad Boy</td>\n",
       "      <td>4ceFgUuLwydkHyMK9qnMW8</td>\n",
       "    </tr>\n",
       "    <tr>\n",
       "      <th>10874</th>\n",
       "      <td>0.589</td>\n",
       "      <td>0.0308</td>\n",
       "      <td>3</td>\n",
       "      <td>-27.237</td>\n",
       "      <td>1</td>\n",
       "      <td>0.0405</td>\n",
       "      <td>0.943</td>\n",
       "      <td>0.01420</td>\n",
       "      <td>0.106</td>\n",
       "      <td>0.5040</td>\n",
       "      <td>83.952</td>\n",
       "      <td>286585</td>\n",
       "      <td>False</td>\n",
       "      <td>7</td>\n",
       "      <td>Travelin Bug</td>\n",
       "      <td>Good Girl, Bad Boy</td>\n",
       "      <td>5HASiM0dbIU1saPBEAlVfw</td>\n",
       "    </tr>\n",
       "    <tr>\n",
       "      <th>10875</th>\n",
       "      <td>0.669</td>\n",
       "      <td>0.0381</td>\n",
       "      <td>7</td>\n",
       "      <td>-18.631</td>\n",
       "      <td>1</td>\n",
       "      <td>0.0382</td>\n",
       "      <td>0.783</td>\n",
       "      <td>0.00000</td>\n",
       "      <td>0.182</td>\n",
       "      <td>0.1730</td>\n",
       "      <td>99.841</td>\n",
       "      <td>349454</td>\n",
       "      <td>False</td>\n",
       "      <td>7</td>\n",
       "      <td>Goodnight</td>\n",
       "      <td>Good Girl, Bad Boy</td>\n",
       "      <td>7eqGtA8qyFgozTSBqGrEws</td>\n",
       "    </tr>\n",
       "    <tr>\n",
       "      <th>10876</th>\n",
       "      <td>0.818</td>\n",
       "      <td>0.1460</td>\n",
       "      <td>9</td>\n",
       "      <td>-19.684</td>\n",
       "      <td>0</td>\n",
       "      <td>0.1230</td>\n",
       "      <td>0.828</td>\n",
       "      <td>0.95900</td>\n",
       "      <td>0.108</td>\n",
       "      <td>0.2350</td>\n",
       "      <td>110.026</td>\n",
       "      <td>74180</td>\n",
       "      <td>False</td>\n",
       "      <td>14</td>\n",
       "      <td>Paranoid</td>\n",
       "      <td>Talen Talea</td>\n",
       "      <td>5cP6IfMkPIxMDEzemOJ6OF</td>\n",
       "    </tr>\n",
       "  </tbody>\n",
       "</table>\n",
       "</div>"
      ],
      "text/plain": [
       "       danceability  energy  key  loudness  mode  speechiness  acousticness  \\\n",
       "10872         0.686  0.1320    0   -20.363     1       0.0339         0.268   \n",
       "10873         0.532  0.0573   11   -20.476     0       0.0479         0.900   \n",
       "10874         0.589  0.0308    3   -27.237     1       0.0405         0.943   \n",
       "10875         0.669  0.0381    7   -18.631     1       0.0382         0.783   \n",
       "10876         0.818  0.1460    9   -19.684     0       0.1230         0.828   \n",
       "\n",
       "       instrumentalness  liveness  valence    tempo  duration_ms  explicit  \\\n",
       "10872           0.00105     0.181   0.4910   95.987       285286     False   \n",
       "10873           0.08770     0.111   0.0731  114.123       360729     False   \n",
       "10874           0.01420     0.106   0.5040   83.952       286585     False   \n",
       "10875           0.00000     0.182   0.1730   99.841       349454     False   \n",
       "10876           0.95900     0.108   0.2350  110.026        74180     False   \n",
       "\n",
       "       popularity          track_name        track_artist  \\\n",
       "10872           7         Bugs n Toes  Good Girl, Bad Boy   \n",
       "10873           7  Scattered Thoughts  Good Girl, Bad Boy   \n",
       "10874           7        Travelin Bug  Good Girl, Bad Boy   \n",
       "10875           7           Goodnight  Good Girl, Bad Boy   \n",
       "10876          14            Paranoid         Talen Talea   \n",
       "\n",
       "                     track_id  \n",
       "10872  2ykd7eWIVcI3ck7x4OR9T1  \n",
       "10873  4ceFgUuLwydkHyMK9qnMW8  \n",
       "10874  5HASiM0dbIU1saPBEAlVfw  \n",
       "10875  7eqGtA8qyFgozTSBqGrEws  \n",
       "10876  5cP6IfMkPIxMDEzemOJ6OF  "
      ]
     },
     "execution_count": 5,
     "metadata": {},
     "output_type": "execute_result"
    }
   ],
   "source": [
    "df.tail()"
   ]
  },
  {
   "cell_type": "markdown",
   "id": "b12b9ecd",
   "metadata": {},
   "source": [
    "#### To count, mean, standard deviation, minimum and maximum values ?"
   ]
  },
  {
   "cell_type": "code",
   "execution_count": 15,
   "id": "1e8f02f4",
   "metadata": {},
   "outputs": [
    {
     "data": {
      "text/html": [
       "<div>\n",
       "<style scoped>\n",
       "    .dataframe tbody tr th:only-of-type {\n",
       "        vertical-align: middle;\n",
       "    }\n",
       "\n",
       "    .dataframe tbody tr th {\n",
       "        vertical-align: top;\n",
       "    }\n",
       "\n",
       "    .dataframe thead th {\n",
       "        text-align: right;\n",
       "    }\n",
       "</style>\n",
       "<table border=\"1\" class=\"dataframe\">\n",
       "  <thead>\n",
       "    <tr style=\"text-align: right;\">\n",
       "      <th></th>\n",
       "      <th>danceability</th>\n",
       "      <th>energy</th>\n",
       "      <th>key</th>\n",
       "      <th>loudness</th>\n",
       "      <th>mode</th>\n",
       "      <th>speechiness</th>\n",
       "      <th>acousticness</th>\n",
       "      <th>instrumentalness</th>\n",
       "      <th>liveness</th>\n",
       "      <th>valence</th>\n",
       "      <th>tempo</th>\n",
       "      <th>duration_ms</th>\n",
       "      <th>popularity</th>\n",
       "    </tr>\n",
       "  </thead>\n",
       "  <tbody>\n",
       "    <tr>\n",
       "      <th>count</th>\n",
       "      <td>10877.000000</td>\n",
       "      <td>10877.000000</td>\n",
       "      <td>10877.000000</td>\n",
       "      <td>10877.000000</td>\n",
       "      <td>10877.000000</td>\n",
       "      <td>10877.000000</td>\n",
       "      <td>10877.000000</td>\n",
       "      <td>10877.000000</td>\n",
       "      <td>10877.000000</td>\n",
       "      <td>10877.000000</td>\n",
       "      <td>10877.000000</td>\n",
       "      <td>1.087700e+04</td>\n",
       "      <td>10877.000000</td>\n",
       "    </tr>\n",
       "    <tr>\n",
       "      <th>mean</th>\n",
       "      <td>0.572519</td>\n",
       "      <td>0.549771</td>\n",
       "      <td>5.223315</td>\n",
       "      <td>-11.359059</td>\n",
       "      <td>0.640986</td>\n",
       "      <td>0.137965</td>\n",
       "      <td>0.354163</td>\n",
       "      <td>0.232943</td>\n",
       "      <td>0.212137</td>\n",
       "      <td>0.464579</td>\n",
       "      <td>117.827552</td>\n",
       "      <td>2.055782e+05</td>\n",
       "      <td>3.078974</td>\n",
       "    </tr>\n",
       "    <tr>\n",
       "      <th>std</th>\n",
       "      <td>0.203501</td>\n",
       "      <td>0.257469</td>\n",
       "      <td>3.620319</td>\n",
       "      <td>6.788808</td>\n",
       "      <td>0.479733</td>\n",
       "      <td>0.160087</td>\n",
       "      <td>0.340914</td>\n",
       "      <td>0.369040</td>\n",
       "      <td>0.190303</td>\n",
       "      <td>0.273150</td>\n",
       "      <td>31.193596</td>\n",
       "      <td>1.067631e+05</td>\n",
       "      <td>4.007018</td>\n",
       "    </tr>\n",
       "    <tr>\n",
       "      <th>min</th>\n",
       "      <td>0.000000</td>\n",
       "      <td>0.000020</td>\n",
       "      <td>0.000000</td>\n",
       "      <td>-51.808000</td>\n",
       "      <td>0.000000</td>\n",
       "      <td>0.000000</td>\n",
       "      <td>0.000000</td>\n",
       "      <td>0.000000</td>\n",
       "      <td>0.000000</td>\n",
       "      <td>0.000000</td>\n",
       "      <td>0.000000</td>\n",
       "      <td>4.693000e+03</td>\n",
       "      <td>0.000000</td>\n",
       "    </tr>\n",
       "    <tr>\n",
       "      <th>25%</th>\n",
       "      <td>0.442000</td>\n",
       "      <td>0.379000</td>\n",
       "      <td>2.000000</td>\n",
       "      <td>-13.796000</td>\n",
       "      <td>0.000000</td>\n",
       "      <td>0.038400</td>\n",
       "      <td>0.036500</td>\n",
       "      <td>0.000000</td>\n",
       "      <td>0.099300</td>\n",
       "      <td>0.238000</td>\n",
       "      <td>92.996000</td>\n",
       "      <td>1.511520e+05</td>\n",
       "      <td>1.000000</td>\n",
       "    </tr>\n",
       "    <tr>\n",
       "      <th>50%</th>\n",
       "      <td>0.602000</td>\n",
       "      <td>0.569000</td>\n",
       "      <td>5.000000</td>\n",
       "      <td>-9.450000</td>\n",
       "      <td>1.000000</td>\n",
       "      <td>0.058900</td>\n",
       "      <td>0.233000</td>\n",
       "      <td>0.000133</td>\n",
       "      <td>0.129000</td>\n",
       "      <td>0.468000</td>\n",
       "      <td>117.141000</td>\n",
       "      <td>1.975220e+05</td>\n",
       "      <td>2.000000</td>\n",
       "    </tr>\n",
       "    <tr>\n",
       "      <th>75%</th>\n",
       "      <td>0.730000</td>\n",
       "      <td>0.745000</td>\n",
       "      <td>9.000000</td>\n",
       "      <td>-6.726000</td>\n",
       "      <td>1.000000</td>\n",
       "      <td>0.188000</td>\n",
       "      <td>0.657000</td>\n",
       "      <td>0.517000</td>\n",
       "      <td>0.268000</td>\n",
       "      <td>0.685000</td>\n",
       "      <td>138.934000</td>\n",
       "      <td>2.444280e+05</td>\n",
       "      <td>3.000000</td>\n",
       "    </tr>\n",
       "    <tr>\n",
       "      <th>max</th>\n",
       "      <td>0.986000</td>\n",
       "      <td>1.000000</td>\n",
       "      <td>11.000000</td>\n",
       "      <td>3.108000</td>\n",
       "      <td>1.000000</td>\n",
       "      <td>0.962000</td>\n",
       "      <td>0.996000</td>\n",
       "      <td>1.000000</td>\n",
       "      <td>0.999000</td>\n",
       "      <td>0.995000</td>\n",
       "      <td>239.500000</td>\n",
       "      <td>3.637277e+06</td>\n",
       "      <td>18.000000</td>\n",
       "    </tr>\n",
       "  </tbody>\n",
       "</table>\n",
       "</div>"
      ],
      "text/plain": [
       "       danceability        energy           key      loudness          mode  \\\n",
       "count  10877.000000  10877.000000  10877.000000  10877.000000  10877.000000   \n",
       "mean       0.572519      0.549771      5.223315    -11.359059      0.640986   \n",
       "std        0.203501      0.257469      3.620319      6.788808      0.479733   \n",
       "min        0.000000      0.000020      0.000000    -51.808000      0.000000   \n",
       "25%        0.442000      0.379000      2.000000    -13.796000      0.000000   \n",
       "50%        0.602000      0.569000      5.000000     -9.450000      1.000000   \n",
       "75%        0.730000      0.745000      9.000000     -6.726000      1.000000   \n",
       "max        0.986000      1.000000     11.000000      3.108000      1.000000   \n",
       "\n",
       "        speechiness  acousticness  instrumentalness      liveness  \\\n",
       "count  10877.000000  10877.000000      10877.000000  10877.000000   \n",
       "mean       0.137965      0.354163          0.232943      0.212137   \n",
       "std        0.160087      0.340914          0.369040      0.190303   \n",
       "min        0.000000      0.000000          0.000000      0.000000   \n",
       "25%        0.038400      0.036500          0.000000      0.099300   \n",
       "50%        0.058900      0.233000          0.000133      0.129000   \n",
       "75%        0.188000      0.657000          0.517000      0.268000   \n",
       "max        0.962000      0.996000          1.000000      0.999000   \n",
       "\n",
       "            valence         tempo   duration_ms    popularity  \n",
       "count  10877.000000  10877.000000  1.087700e+04  10877.000000  \n",
       "mean       0.464579    117.827552  2.055782e+05      3.078974  \n",
       "std        0.273150     31.193596  1.067631e+05      4.007018  \n",
       "min        0.000000      0.000000  4.693000e+03      0.000000  \n",
       "25%        0.238000     92.996000  1.511520e+05      1.000000  \n",
       "50%        0.468000    117.141000  1.975220e+05      2.000000  \n",
       "75%        0.685000    138.934000  2.444280e+05      3.000000  \n",
       "max        0.995000    239.500000  3.637277e+06     18.000000  "
      ]
     },
     "execution_count": 15,
     "metadata": {},
     "output_type": "execute_result"
    }
   ],
   "source": [
    "df.describe()"
   ]
  },
  {
   "cell_type": "markdown",
   "id": "219bff22",
   "metadata": {},
   "source": [
    "#### Information about the unpopular songs in the dataset "
   ]
  },
  {
   "cell_type": "code",
   "execution_count": 17,
   "id": "b2d059b5",
   "metadata": {},
   "outputs": [
    {
     "name": "stdout",
     "output_type": "stream",
     "text": [
      "<class 'pandas.core.frame.DataFrame'>\n",
      "RangeIndex: 10877 entries, 0 to 10876\n",
      "Data columns (total 17 columns):\n",
      " #   Column            Non-Null Count  Dtype  \n",
      "---  ------            --------------  -----  \n",
      " 0   danceability      10877 non-null  float64\n",
      " 1   energy            10877 non-null  float64\n",
      " 2   key               10877 non-null  int64  \n",
      " 3   loudness          10877 non-null  float64\n",
      " 4   mode              10877 non-null  int64  \n",
      " 5   speechiness       10877 non-null  float64\n",
      " 6   acousticness      10877 non-null  float64\n",
      " 7   instrumentalness  10877 non-null  float64\n",
      " 8   liveness          10877 non-null  float64\n",
      " 9   valence           10877 non-null  float64\n",
      " 10  tempo             10877 non-null  float64\n",
      " 11  duration_ms       10877 non-null  int64  \n",
      " 12  explicit          10877 non-null  bool   \n",
      " 13  popularity        10877 non-null  int64  \n",
      " 14  track_name        10877 non-null  object \n",
      " 15  track_artist      10877 non-null  object \n",
      " 16  track_id          10877 non-null  object \n",
      "dtypes: bool(1), float64(9), int64(4), object(3)\n",
      "memory usage: 1.3+ MB\n"
     ]
    }
   ],
   "source": [
    "\n",
    "df.info()"
   ]
  },
  {
   "cell_type": "markdown",
   "id": "dc9965c9",
   "metadata": {},
   "source": [
    "#### how to check wheather there are null values in dataset ?"
   ]
  },
  {
   "cell_type": "code",
   "execution_count": 16,
   "id": "7959590a",
   "metadata": {},
   "outputs": [
    {
     "data": {
      "text/plain": [
       "danceability        0\n",
       "energy              0\n",
       "key                 0\n",
       "loudness            0\n",
       "mode                0\n",
       "speechiness         0\n",
       "acousticness        0\n",
       "instrumentalness    0\n",
       "liveness            0\n",
       "valence             0\n",
       "tempo               0\n",
       "duration_ms         0\n",
       "explicit            0\n",
       "popularity          0\n",
       "track_name          0\n",
       "track_artist        0\n",
       "track_id            0\n",
       "dtype: int64"
      ]
     },
     "execution_count": 16,
     "metadata": {},
     "output_type": "execute_result"
    }
   ],
   "source": [
    "df.isnull().sum()"
   ]
  },
  {
   "cell_type": "markdown",
   "id": "7ea445cf",
   "metadata": {},
   "source": [
    "from that we can infer that there are no null values in any of our columns of the dataset. Hennce, the process of dealing with null values or replacing with inferential statistics cannot be done(as there are no null mvalues in dataset)"
   ]
  },
  {
   "cell_type": "markdown",
   "id": "e5aa1188",
   "metadata": {},
   "source": [
    "#### finding total number of rows and columns from the data set using shape ?"
   ]
  },
  {
   "cell_type": "code",
   "execution_count": 16,
   "id": "a99a4d43",
   "metadata": {},
   "outputs": [
    {
     "data": {
      "text/plain": [
       "(10877, 17)"
      ]
     },
     "execution_count": 16,
     "metadata": {},
     "output_type": "execute_result"
    }
   ],
   "source": [
    "df.shape"
   ]
  },
  {
   "cell_type": "markdown",
   "id": "5057ab2a",
   "metadata": {},
   "source": [
    "#### the total number of items in the dataset "
   ]
  },
  {
   "cell_type": "code",
   "execution_count": 17,
   "id": "16ed01ea",
   "metadata": {},
   "outputs": [
    {
     "data": {
      "text/plain": [
       "184909"
      ]
     },
     "execution_count": 17,
     "metadata": {},
     "output_type": "execute_result"
    }
   ],
   "source": [
    "df.size"
   ]
  },
  {
   "cell_type": "markdown",
   "id": "5af99109",
   "metadata": {},
   "source": [
    "#### which types are there in each column in the dataset "
   ]
  },
  {
   "cell_type": "code",
   "execution_count": 36,
   "id": "5ec3efa5",
   "metadata": {},
   "outputs": [
    {
     "data": {
      "text/plain": [
       "danceability        float64\n",
       "energy              float64\n",
       "key                   int64\n",
       "loudness            float64\n",
       "mode                  int64\n",
       "speechiness         float64\n",
       "acousticness        float64\n",
       "instrumentalness    float64\n",
       "liveness            float64\n",
       "valence             float64\n",
       "tempo               float64\n",
       "duration_ms           int64\n",
       "explicit               bool\n",
       "popularity            int64\n",
       "track_name           object\n",
       "track_artist         object\n",
       "track_id             object\n",
       "dtype: object"
      ]
     },
     "execution_count": 36,
     "metadata": {},
     "output_type": "execute_result"
    }
   ],
   "source": [
    "df.dtypes"
   ]
  },
  {
   "cell_type": "code",
   "execution_count": 6,
   "id": "602558cc",
   "metadata": {},
   "outputs": [
    {
     "data": {
      "text/plain": [
       "danceability          941\n",
       "energy               1415\n",
       "key                    12\n",
       "loudness             8160\n",
       "mode                    2\n",
       "speechiness          1381\n",
       "acousticness         2802\n",
       "instrumentalness     3051\n",
       "liveness             1432\n",
       "valence              1492\n",
       "tempo                9602\n",
       "duration_ms          9561\n",
       "explicit                2\n",
       "popularity             19\n",
       "track_name          10447\n",
       "track_artist         2057\n",
       "track_id            10877\n",
       "dtype: int64"
      ]
     },
     "execution_count": 6,
     "metadata": {},
     "output_type": "execute_result"
    }
   ],
   "source": [
    "df.nunique()"
   ]
  },
  {
   "cell_type": "markdown",
   "id": "ab7bc8c4",
   "metadata": {},
   "source": [
    "#### what are duplicate values and how to check duplicate values ?"
   ]
  },
  {
   "cell_type": "code",
   "execution_count": 9,
   "id": "92fdea33",
   "metadata": {},
   "outputs": [
    {
     "data": {
      "text/plain": [
       "0        False\n",
       "1        False\n",
       "2        False\n",
       "3        False\n",
       "4        False\n",
       "         ...  \n",
       "10872    False\n",
       "10873    False\n",
       "10874    False\n",
       "10875    False\n",
       "10876    False\n",
       "Length: 10877, dtype: bool"
      ]
     },
     "execution_count": 9,
     "metadata": {},
     "output_type": "execute_result"
    }
   ],
   "source": [
    "df.duplicated()"
   ]
  },
  {
   "cell_type": "markdown",
   "id": "a1f00a41",
   "metadata": {},
   "source": [
    "#### A duplicate values is one in which all values at least one row are identical to all of the values in another row, how can duplicate values be removed or how to check only non-duplicate value ?"
   ]
  },
  {
   "cell_type": "code",
   "execution_count": 8,
   "id": "20b6fdbf",
   "metadata": {},
   "outputs": [
    {
     "data": {
      "text/html": [
       "<div>\n",
       "<style scoped>\n",
       "    .dataframe tbody tr th:only-of-type {\n",
       "        vertical-align: middle;\n",
       "    }\n",
       "\n",
       "    .dataframe tbody tr th {\n",
       "        vertical-align: top;\n",
       "    }\n",
       "\n",
       "    .dataframe thead th {\n",
       "        text-align: right;\n",
       "    }\n",
       "</style>\n",
       "<table border=\"1\" class=\"dataframe\">\n",
       "  <thead>\n",
       "    <tr style=\"text-align: right;\">\n",
       "      <th></th>\n",
       "      <th>danceability</th>\n",
       "      <th>energy</th>\n",
       "      <th>key</th>\n",
       "      <th>loudness</th>\n",
       "      <th>mode</th>\n",
       "      <th>speechiness</th>\n",
       "      <th>acousticness</th>\n",
       "      <th>instrumentalness</th>\n",
       "      <th>liveness</th>\n",
       "      <th>valence</th>\n",
       "      <th>tempo</th>\n",
       "      <th>duration_ms</th>\n",
       "      <th>explicit</th>\n",
       "      <th>popularity</th>\n",
       "      <th>track_name</th>\n",
       "      <th>track_artist</th>\n",
       "      <th>track_id</th>\n",
       "    </tr>\n",
       "  </thead>\n",
       "  <tbody>\n",
       "    <tr>\n",
       "      <th>0</th>\n",
       "      <td>0.530</td>\n",
       "      <td>0.770</td>\n",
       "      <td>4</td>\n",
       "      <td>-6.633</td>\n",
       "      <td>0</td>\n",
       "      <td>0.0389</td>\n",
       "      <td>0.28400</td>\n",
       "      <td>0.501000</td>\n",
       "      <td>0.7440</td>\n",
       "      <td>0.623</td>\n",
       "      <td>120.144</td>\n",
       "      <td>225696</td>\n",
       "      <td>False</td>\n",
       "      <td>2</td>\n",
       "      <td>No Regrets</td>\n",
       "      <td>James Reeder</td>\n",
       "      <td>6f2c4a9lNx8aowZJngv7cJ</td>\n",
       "    </tr>\n",
       "    <tr>\n",
       "      <th>1</th>\n",
       "      <td>0.565</td>\n",
       "      <td>0.730</td>\n",
       "      <td>1</td>\n",
       "      <td>-6.063</td>\n",
       "      <td>1</td>\n",
       "      <td>0.0730</td>\n",
       "      <td>0.36500</td>\n",
       "      <td>0.000000</td>\n",
       "      <td>0.2370</td>\n",
       "      <td>0.511</td>\n",
       "      <td>130.026</td>\n",
       "      <td>158093</td>\n",
       "      <td>False</td>\n",
       "      <td>2</td>\n",
       "      <td>Wild Life</td>\n",
       "      <td>James Reeder</td>\n",
       "      <td>3fTs52jsDzSuVLsifxNKO8</td>\n",
       "    </tr>\n",
       "    <tr>\n",
       "      <th>3</th>\n",
       "      <td>0.421</td>\n",
       "      <td>0.531</td>\n",
       "      <td>7</td>\n",
       "      <td>-5.516</td>\n",
       "      <td>1</td>\n",
       "      <td>0.0262</td>\n",
       "      <td>0.70600</td>\n",
       "      <td>0.000208</td>\n",
       "      <td>0.1100</td>\n",
       "      <td>0.383</td>\n",
       "      <td>85.080</td>\n",
       "      <td>236832</td>\n",
       "      <td>False</td>\n",
       "      <td>2</td>\n",
       "      <td>Afterburner</td>\n",
       "      <td>James Reeder</td>\n",
       "      <td>3vGmhxveURgmlZStvo0uc1</td>\n",
       "    </tr>\n",
       "    <tr>\n",
       "      <th>4</th>\n",
       "      <td>0.537</td>\n",
       "      <td>0.804</td>\n",
       "      <td>8</td>\n",
       "      <td>-7.378</td>\n",
       "      <td>0</td>\n",
       "      <td>0.1570</td>\n",
       "      <td>0.37900</td>\n",
       "      <td>0.000489</td>\n",
       "      <td>0.3230</td>\n",
       "      <td>0.543</td>\n",
       "      <td>139.950</td>\n",
       "      <td>239400</td>\n",
       "      <td>False</td>\n",
       "      <td>2</td>\n",
       "      <td>Hellfire Rising</td>\n",
       "      <td>James Reeder</td>\n",
       "      <td>4O2qRbfCHzMMgfbw9DBdGf</td>\n",
       "    </tr>\n",
       "    <tr>\n",
       "      <th>5</th>\n",
       "      <td>0.710</td>\n",
       "      <td>0.621</td>\n",
       "      <td>9</td>\n",
       "      <td>-7.879</td>\n",
       "      <td>0</td>\n",
       "      <td>0.0329</td>\n",
       "      <td>0.40500</td>\n",
       "      <td>0.001900</td>\n",
       "      <td>0.1030</td>\n",
       "      <td>0.546</td>\n",
       "      <td>125.985</td>\n",
       "      <td>194560</td>\n",
       "      <td>False</td>\n",
       "      <td>2</td>\n",
       "      <td>Hurricane</td>\n",
       "      <td>James Reeder</td>\n",
       "      <td>1Tu9d0uA2ipK3s8EddNfl9</td>\n",
       "    </tr>\n",
       "    <tr>\n",
       "      <th>6</th>\n",
       "      <td>0.419</td>\n",
       "      <td>0.821</td>\n",
       "      <td>11</td>\n",
       "      <td>-5.768</td>\n",
       "      <td>0</td>\n",
       "      <td>0.0431</td>\n",
       "      <td>0.01370</td>\n",
       "      <td>0.003650</td>\n",
       "      <td>0.1270</td>\n",
       "      <td>0.343</td>\n",
       "      <td>80.031</td>\n",
       "      <td>195288</td>\n",
       "      <td>False</td>\n",
       "      <td>2</td>\n",
       "      <td>Trapdoor</td>\n",
       "      <td>James Reeder</td>\n",
       "      <td>5IR8f7pzaGn6k7TJ6A7bNk</td>\n",
       "    </tr>\n",
       "    <tr>\n",
       "      <th>8</th>\n",
       "      <td>0.547</td>\n",
       "      <td>0.560</td>\n",
       "      <td>0</td>\n",
       "      <td>-7.187</td>\n",
       "      <td>1</td>\n",
       "      <td>0.0510</td>\n",
       "      <td>0.55100</td>\n",
       "      <td>0.179000</td>\n",
       "      <td>0.1370</td>\n",
       "      <td>0.354</td>\n",
       "      <td>169.878</td>\n",
       "      <td>182184</td>\n",
       "      <td>False</td>\n",
       "      <td>2</td>\n",
       "      <td>Rusty Barracuda</td>\n",
       "      <td>James Reeder</td>\n",
       "      <td>4oUd60VyrDAM26LKxNe3NG</td>\n",
       "    </tr>\n",
       "    <tr>\n",
       "      <th>9</th>\n",
       "      <td>0.533</td>\n",
       "      <td>0.785</td>\n",
       "      <td>5</td>\n",
       "      <td>-5.466</td>\n",
       "      <td>1</td>\n",
       "      <td>0.0481</td>\n",
       "      <td>0.59100</td>\n",
       "      <td>0.000000</td>\n",
       "      <td>0.1620</td>\n",
       "      <td>0.521</td>\n",
       "      <td>89.826</td>\n",
       "      <td>120936</td>\n",
       "      <td>False</td>\n",
       "      <td>2</td>\n",
       "      <td>Night on Fire</td>\n",
       "      <td>James Reeder</td>\n",
       "      <td>4sCYHI5weMJM8STfL0yjUg</td>\n",
       "    </tr>\n",
       "    <tr>\n",
       "      <th>10</th>\n",
       "      <td>0.482</td>\n",
       "      <td>0.369</td>\n",
       "      <td>2</td>\n",
       "      <td>-7.637</td>\n",
       "      <td>0</td>\n",
       "      <td>0.0412</td>\n",
       "      <td>0.75000</td>\n",
       "      <td>0.006530</td>\n",
       "      <td>0.1050</td>\n",
       "      <td>0.246</td>\n",
       "      <td>74.396</td>\n",
       "      <td>206544</td>\n",
       "      <td>False</td>\n",
       "      <td>2</td>\n",
       "      <td>Kentucky Banshee</td>\n",
       "      <td>James Reeder</td>\n",
       "      <td>3R8geaRy40N54AklO7cAfY</td>\n",
       "    </tr>\n",
       "    <tr>\n",
       "      <th>15</th>\n",
       "      <td>0.708</td>\n",
       "      <td>0.499</td>\n",
       "      <td>10</td>\n",
       "      <td>-10.249</td>\n",
       "      <td>1</td>\n",
       "      <td>0.0549</td>\n",
       "      <td>0.00461</td>\n",
       "      <td>0.087300</td>\n",
       "      <td>0.1060</td>\n",
       "      <td>0.377</td>\n",
       "      <td>95.986</td>\n",
       "      <td>166520</td>\n",
       "      <td>True</td>\n",
       "      <td>14</td>\n",
       "      <td>Essence</td>\n",
       "      <td>TG</td>\n",
       "      <td>5BoLSxmENQsVzfHz97D0YN</td>\n",
       "    </tr>\n",
       "    <tr>\n",
       "      <th>22</th>\n",
       "      <td>0.596</td>\n",
       "      <td>0.664</td>\n",
       "      <td>6</td>\n",
       "      <td>-8.661</td>\n",
       "      <td>1</td>\n",
       "      <td>0.2580</td>\n",
       "      <td>0.28000</td>\n",
       "      <td>0.000979</td>\n",
       "      <td>0.0727</td>\n",
       "      <td>0.661</td>\n",
       "      <td>125.907</td>\n",
       "      <td>272773</td>\n",
       "      <td>False</td>\n",
       "      <td>0</td>\n",
       "      <td>La Revolución Del Cuerpo, Pt. 1 (feat. Ogguere...</td>\n",
       "      <td>Gilles Peterson's Havana Cultura Band</td>\n",
       "      <td>0WMgv9HgjjLqyrti5Z8thl</td>\n",
       "    </tr>\n",
       "    <tr>\n",
       "      <th>124</th>\n",
       "      <td>0.523</td>\n",
       "      <td>0.397</td>\n",
       "      <td>3</td>\n",
       "      <td>-13.776</td>\n",
       "      <td>1</td>\n",
       "      <td>0.0332</td>\n",
       "      <td>0.16800</td>\n",
       "      <td>0.000000</td>\n",
       "      <td>0.1770</td>\n",
       "      <td>0.414</td>\n",
       "      <td>75.135</td>\n",
       "      <td>204600</td>\n",
       "      <td>False</td>\n",
       "      <td>3</td>\n",
       "      <td>Ti Amero' (Te Amarè)</td>\n",
       "      <td>Miguel Bosé</td>\n",
       "      <td>2onJ5H0eWjwMJ974jFijpl</td>\n",
       "    </tr>\n",
       "  </tbody>\n",
       "</table>\n",
       "</div>"
      ],
      "text/plain": [
       "     danceability  energy  key  loudness  mode  speechiness  acousticness  \\\n",
       "0           0.530   0.770    4    -6.633     0       0.0389       0.28400   \n",
       "1           0.565   0.730    1    -6.063     1       0.0730       0.36500   \n",
       "3           0.421   0.531    7    -5.516     1       0.0262       0.70600   \n",
       "4           0.537   0.804    8    -7.378     0       0.1570       0.37900   \n",
       "5           0.710   0.621    9    -7.879     0       0.0329       0.40500   \n",
       "6           0.419   0.821   11    -5.768     0       0.0431       0.01370   \n",
       "8           0.547   0.560    0    -7.187     1       0.0510       0.55100   \n",
       "9           0.533   0.785    5    -5.466     1       0.0481       0.59100   \n",
       "10          0.482   0.369    2    -7.637     0       0.0412       0.75000   \n",
       "15          0.708   0.499   10   -10.249     1       0.0549       0.00461   \n",
       "22          0.596   0.664    6    -8.661     1       0.2580       0.28000   \n",
       "124         0.523   0.397    3   -13.776     1       0.0332       0.16800   \n",
       "\n",
       "     instrumentalness  liveness  valence    tempo  duration_ms  explicit  \\\n",
       "0            0.501000    0.7440    0.623  120.144       225696     False   \n",
       "1            0.000000    0.2370    0.511  130.026       158093     False   \n",
       "3            0.000208    0.1100    0.383   85.080       236832     False   \n",
       "4            0.000489    0.3230    0.543  139.950       239400     False   \n",
       "5            0.001900    0.1030    0.546  125.985       194560     False   \n",
       "6            0.003650    0.1270    0.343   80.031       195288     False   \n",
       "8            0.179000    0.1370    0.354  169.878       182184     False   \n",
       "9            0.000000    0.1620    0.521   89.826       120936     False   \n",
       "10           0.006530    0.1050    0.246   74.396       206544     False   \n",
       "15           0.087300    0.1060    0.377   95.986       166520      True   \n",
       "22           0.000979    0.0727    0.661  125.907       272773     False   \n",
       "124          0.000000    0.1770    0.414   75.135       204600     False   \n",
       "\n",
       "     popularity                                         track_name  \\\n",
       "0             2                                         No Regrets   \n",
       "1             2                                          Wild Life   \n",
       "3             2                                        Afterburner   \n",
       "4             2                                    Hellfire Rising   \n",
       "5             2                                          Hurricane   \n",
       "6             2                                           Trapdoor   \n",
       "8             2                                    Rusty Barracuda   \n",
       "9             2                                      Night on Fire   \n",
       "10            2                                   Kentucky Banshee   \n",
       "15           14                                            Essence   \n",
       "22            0  La Revolución Del Cuerpo, Pt. 1 (feat. Ogguere...   \n",
       "124           3                               Ti Amero' (Te Amarè)   \n",
       "\n",
       "                              track_artist                track_id  \n",
       "0                             James Reeder  6f2c4a9lNx8aowZJngv7cJ  \n",
       "1                             James Reeder  3fTs52jsDzSuVLsifxNKO8  \n",
       "3                             James Reeder  3vGmhxveURgmlZStvo0uc1  \n",
       "4                             James Reeder  4O2qRbfCHzMMgfbw9DBdGf  \n",
       "5                             James Reeder  1Tu9d0uA2ipK3s8EddNfl9  \n",
       "6                             James Reeder  5IR8f7pzaGn6k7TJ6A7bNk  \n",
       "8                             James Reeder  4oUd60VyrDAM26LKxNe3NG  \n",
       "9                             James Reeder  4sCYHI5weMJM8STfL0yjUg  \n",
       "10                            James Reeder  3R8geaRy40N54AklO7cAfY  \n",
       "15                                      TG  5BoLSxmENQsVzfHz97D0YN  \n",
       "22   Gilles Peterson's Havana Cultura Band  0WMgv9HgjjLqyrti5Z8thl  \n",
       "124                            Miguel Bosé  2onJ5H0eWjwMJ974jFijpl  "
      ]
     },
     "execution_count": 8,
     "metadata": {},
     "output_type": "execute_result"
    }
   ],
   "source": [
    "df.drop_duplicates(subset=['key'])"
   ]
  },
  {
   "cell_type": "markdown",
   "id": "2c68929f",
   "metadata": {},
   "source": [
    "# Null_Values in dataset"
   ]
  },
  {
   "cell_type": "code",
   "execution_count": 8,
   "id": "6bc46091",
   "metadata": {},
   "outputs": [
    {
     "data": {
      "text/html": [
       "<div>\n",
       "<style scoped>\n",
       "    .dataframe tbody tr th:only-of-type {\n",
       "        vertical-align: middle;\n",
       "    }\n",
       "\n",
       "    .dataframe tbody tr th {\n",
       "        vertical-align: top;\n",
       "    }\n",
       "\n",
       "    .dataframe thead th {\n",
       "        text-align: right;\n",
       "    }\n",
       "</style>\n",
       "<table border=\"1\" class=\"dataframe\">\n",
       "  <thead>\n",
       "    <tr style=\"text-align: right;\">\n",
       "      <th></th>\n",
       "      <th>danceability</th>\n",
       "      <th>energy</th>\n",
       "      <th>key</th>\n",
       "      <th>loudness</th>\n",
       "      <th>mode</th>\n",
       "      <th>speechiness</th>\n",
       "      <th>acousticness</th>\n",
       "      <th>instrumentalness</th>\n",
       "      <th>liveness</th>\n",
       "      <th>valence</th>\n",
       "      <th>tempo</th>\n",
       "      <th>duration_ms</th>\n",
       "      <th>explicit</th>\n",
       "      <th>popularity</th>\n",
       "      <th>track_name</th>\n",
       "      <th>track_artist</th>\n",
       "      <th>track_id</th>\n",
       "    </tr>\n",
       "  </thead>\n",
       "  <tbody>\n",
       "    <tr>\n",
       "      <th>0</th>\n",
       "      <td>False</td>\n",
       "      <td>False</td>\n",
       "      <td>False</td>\n",
       "      <td>False</td>\n",
       "      <td>False</td>\n",
       "      <td>False</td>\n",
       "      <td>False</td>\n",
       "      <td>False</td>\n",
       "      <td>False</td>\n",
       "      <td>False</td>\n",
       "      <td>False</td>\n",
       "      <td>False</td>\n",
       "      <td>False</td>\n",
       "      <td>False</td>\n",
       "      <td>False</td>\n",
       "      <td>False</td>\n",
       "      <td>False</td>\n",
       "    </tr>\n",
       "    <tr>\n",
       "      <th>1</th>\n",
       "      <td>False</td>\n",
       "      <td>False</td>\n",
       "      <td>False</td>\n",
       "      <td>False</td>\n",
       "      <td>False</td>\n",
       "      <td>False</td>\n",
       "      <td>False</td>\n",
       "      <td>False</td>\n",
       "      <td>False</td>\n",
       "      <td>False</td>\n",
       "      <td>False</td>\n",
       "      <td>False</td>\n",
       "      <td>False</td>\n",
       "      <td>False</td>\n",
       "      <td>False</td>\n",
       "      <td>False</td>\n",
       "      <td>False</td>\n",
       "    </tr>\n",
       "    <tr>\n",
       "      <th>2</th>\n",
       "      <td>False</td>\n",
       "      <td>False</td>\n",
       "      <td>False</td>\n",
       "      <td>False</td>\n",
       "      <td>False</td>\n",
       "      <td>False</td>\n",
       "      <td>False</td>\n",
       "      <td>False</td>\n",
       "      <td>False</td>\n",
       "      <td>False</td>\n",
       "      <td>False</td>\n",
       "      <td>False</td>\n",
       "      <td>False</td>\n",
       "      <td>False</td>\n",
       "      <td>False</td>\n",
       "      <td>False</td>\n",
       "      <td>False</td>\n",
       "    </tr>\n",
       "    <tr>\n",
       "      <th>3</th>\n",
       "      <td>False</td>\n",
       "      <td>False</td>\n",
       "      <td>False</td>\n",
       "      <td>False</td>\n",
       "      <td>False</td>\n",
       "      <td>False</td>\n",
       "      <td>False</td>\n",
       "      <td>False</td>\n",
       "      <td>False</td>\n",
       "      <td>False</td>\n",
       "      <td>False</td>\n",
       "      <td>False</td>\n",
       "      <td>False</td>\n",
       "      <td>False</td>\n",
       "      <td>False</td>\n",
       "      <td>False</td>\n",
       "      <td>False</td>\n",
       "    </tr>\n",
       "    <tr>\n",
       "      <th>4</th>\n",
       "      <td>False</td>\n",
       "      <td>False</td>\n",
       "      <td>False</td>\n",
       "      <td>False</td>\n",
       "      <td>False</td>\n",
       "      <td>False</td>\n",
       "      <td>False</td>\n",
       "      <td>False</td>\n",
       "      <td>False</td>\n",
       "      <td>False</td>\n",
       "      <td>False</td>\n",
       "      <td>False</td>\n",
       "      <td>False</td>\n",
       "      <td>False</td>\n",
       "      <td>False</td>\n",
       "      <td>False</td>\n",
       "      <td>False</td>\n",
       "    </tr>\n",
       "    <tr>\n",
       "      <th>...</th>\n",
       "      <td>...</td>\n",
       "      <td>...</td>\n",
       "      <td>...</td>\n",
       "      <td>...</td>\n",
       "      <td>...</td>\n",
       "      <td>...</td>\n",
       "      <td>...</td>\n",
       "      <td>...</td>\n",
       "      <td>...</td>\n",
       "      <td>...</td>\n",
       "      <td>...</td>\n",
       "      <td>...</td>\n",
       "      <td>...</td>\n",
       "      <td>...</td>\n",
       "      <td>...</td>\n",
       "      <td>...</td>\n",
       "      <td>...</td>\n",
       "    </tr>\n",
       "    <tr>\n",
       "      <th>10872</th>\n",
       "      <td>False</td>\n",
       "      <td>False</td>\n",
       "      <td>False</td>\n",
       "      <td>False</td>\n",
       "      <td>False</td>\n",
       "      <td>False</td>\n",
       "      <td>False</td>\n",
       "      <td>False</td>\n",
       "      <td>False</td>\n",
       "      <td>False</td>\n",
       "      <td>False</td>\n",
       "      <td>False</td>\n",
       "      <td>False</td>\n",
       "      <td>False</td>\n",
       "      <td>False</td>\n",
       "      <td>False</td>\n",
       "      <td>False</td>\n",
       "    </tr>\n",
       "    <tr>\n",
       "      <th>10873</th>\n",
       "      <td>False</td>\n",
       "      <td>False</td>\n",
       "      <td>False</td>\n",
       "      <td>False</td>\n",
       "      <td>False</td>\n",
       "      <td>False</td>\n",
       "      <td>False</td>\n",
       "      <td>False</td>\n",
       "      <td>False</td>\n",
       "      <td>False</td>\n",
       "      <td>False</td>\n",
       "      <td>False</td>\n",
       "      <td>False</td>\n",
       "      <td>False</td>\n",
       "      <td>False</td>\n",
       "      <td>False</td>\n",
       "      <td>False</td>\n",
       "    </tr>\n",
       "    <tr>\n",
       "      <th>10874</th>\n",
       "      <td>False</td>\n",
       "      <td>False</td>\n",
       "      <td>False</td>\n",
       "      <td>False</td>\n",
       "      <td>False</td>\n",
       "      <td>False</td>\n",
       "      <td>False</td>\n",
       "      <td>False</td>\n",
       "      <td>False</td>\n",
       "      <td>False</td>\n",
       "      <td>False</td>\n",
       "      <td>False</td>\n",
       "      <td>False</td>\n",
       "      <td>False</td>\n",
       "      <td>False</td>\n",
       "      <td>False</td>\n",
       "      <td>False</td>\n",
       "    </tr>\n",
       "    <tr>\n",
       "      <th>10875</th>\n",
       "      <td>False</td>\n",
       "      <td>False</td>\n",
       "      <td>False</td>\n",
       "      <td>False</td>\n",
       "      <td>False</td>\n",
       "      <td>False</td>\n",
       "      <td>False</td>\n",
       "      <td>False</td>\n",
       "      <td>False</td>\n",
       "      <td>False</td>\n",
       "      <td>False</td>\n",
       "      <td>False</td>\n",
       "      <td>False</td>\n",
       "      <td>False</td>\n",
       "      <td>False</td>\n",
       "      <td>False</td>\n",
       "      <td>False</td>\n",
       "    </tr>\n",
       "    <tr>\n",
       "      <th>10876</th>\n",
       "      <td>False</td>\n",
       "      <td>False</td>\n",
       "      <td>False</td>\n",
       "      <td>False</td>\n",
       "      <td>False</td>\n",
       "      <td>False</td>\n",
       "      <td>False</td>\n",
       "      <td>False</td>\n",
       "      <td>False</td>\n",
       "      <td>False</td>\n",
       "      <td>False</td>\n",
       "      <td>False</td>\n",
       "      <td>False</td>\n",
       "      <td>False</td>\n",
       "      <td>False</td>\n",
       "      <td>False</td>\n",
       "      <td>False</td>\n",
       "    </tr>\n",
       "  </tbody>\n",
       "</table>\n",
       "<p>10877 rows × 17 columns</p>\n",
       "</div>"
      ],
      "text/plain": [
       "       danceability  energy    key  loudness   mode  speechiness  \\\n",
       "0             False   False  False     False  False        False   \n",
       "1             False   False  False     False  False        False   \n",
       "2             False   False  False     False  False        False   \n",
       "3             False   False  False     False  False        False   \n",
       "4             False   False  False     False  False        False   \n",
       "...             ...     ...    ...       ...    ...          ...   \n",
       "10872         False   False  False     False  False        False   \n",
       "10873         False   False  False     False  False        False   \n",
       "10874         False   False  False     False  False        False   \n",
       "10875         False   False  False     False  False        False   \n",
       "10876         False   False  False     False  False        False   \n",
       "\n",
       "       acousticness  instrumentalness  liveness  valence  tempo  duration_ms  \\\n",
       "0             False             False     False    False  False        False   \n",
       "1             False             False     False    False  False        False   \n",
       "2             False             False     False    False  False        False   \n",
       "3             False             False     False    False  False        False   \n",
       "4             False             False     False    False  False        False   \n",
       "...             ...               ...       ...      ...    ...          ...   \n",
       "10872         False             False     False    False  False        False   \n",
       "10873         False             False     False    False  False        False   \n",
       "10874         False             False     False    False  False        False   \n",
       "10875         False             False     False    False  False        False   \n",
       "10876         False             False     False    False  False        False   \n",
       "\n",
       "       explicit  popularity  track_name  track_artist  track_id  \n",
       "0         False       False       False         False     False  \n",
       "1         False       False       False         False     False  \n",
       "2         False       False       False         False     False  \n",
       "3         False       False       False         False     False  \n",
       "4         False       False       False         False     False  \n",
       "...         ...         ...         ...           ...       ...  \n",
       "10872     False       False       False         False     False  \n",
       "10873     False       False       False         False     False  \n",
       "10874     False       False       False         False     False  \n",
       "10875     False       False       False         False     False  \n",
       "10876     False       False       False         False     False  \n",
       "\n",
       "[10877 rows x 17 columns]"
      ]
     },
     "execution_count": 8,
     "metadata": {},
     "output_type": "execute_result"
    }
   ],
   "source": [
    "df.isnull()"
   ]
  },
  {
   "cell_type": "markdown",
   "id": "7b08c8fe",
   "metadata": {},
   "source": [
    "#### check wheather there are null values in dataset ?"
   ]
  },
  {
   "cell_type": "code",
   "execution_count": 3,
   "id": "ce2a9e59",
   "metadata": {},
   "outputs": [
    {
     "data": {
      "text/plain": [
       "danceability        0\n",
       "energy              0\n",
       "key                 0\n",
       "loudness            0\n",
       "mode                0\n",
       "speechiness         0\n",
       "acousticness        0\n",
       "instrumentalness    0\n",
       "liveness            0\n",
       "valence             0\n",
       "tempo               0\n",
       "duration_ms         0\n",
       "explicit            0\n",
       "popularity          0\n",
       "track_name          0\n",
       "track_artist        0\n",
       "track_id            0\n",
       "dtype: int64"
      ]
     },
     "execution_count": 3,
     "metadata": {},
     "output_type": "execute_result"
    }
   ],
   "source": [
    "df.isnull().sum()"
   ]
  },
  {
   "cell_type": "code",
   "execution_count": 5,
   "id": "0e9cd032",
   "metadata": {
    "scrolled": true
   },
   "outputs": [
    {
     "data": {
      "text/plain": [
       "danceability        0\n",
       "energy              0\n",
       "key                 0\n",
       "loudness            0\n",
       "mode                0\n",
       "speechiness         0\n",
       "acousticness        0\n",
       "instrumentalness    0\n",
       "liveness            0\n",
       "valence             0\n",
       "tempo               0\n",
       "duration_ms         0\n",
       "explicit            0\n",
       "popularity          0\n",
       "track_name          0\n",
       "track_artist        0\n",
       "track_id            0\n",
       "dtype: int64"
      ]
     },
     "execution_count": 5,
     "metadata": {},
     "output_type": "execute_result"
    }
   ],
   "source": [
    "df[\"mode\"].fillna(\"No mode\", inplace = True) \n",
    "    \n",
    "df.isnull().sum()"
   ]
  },
  {
   "cell_type": "code",
   "execution_count": 8,
   "id": "3234c960",
   "metadata": {},
   "outputs": [
    {
     "data": {
      "text/plain": [
       "danceability        0\n",
       "energy              0\n",
       "key                 0\n",
       "loudness            0\n",
       "mode                0\n",
       "speechiness         0\n",
       "acousticness        0\n",
       "instrumentalness    0\n",
       "liveness            0\n",
       "valence             0\n",
       "tempo               0\n",
       "duration_ms         0\n",
       "explicit            0\n",
       "popularity          0\n",
       "track_name          0\n",
       "track_artist        0\n",
       "track_id            0\n",
       "dtype: int64"
      ]
     },
     "execution_count": 8,
     "metadata": {},
     "output_type": "execute_result"
    }
   ],
   "source": [
    "#just replace all the missing data with the mode of the column in dataset \n",
    "mode = df['tempo'].mode().values[0]\n",
    "df['tempo']= df['tempo'].replace(np.nan, mode)\n",
    "  \n",
    "df.isnull().sum()"
   ]
  },
  {
   "cell_type": "code",
   "execution_count": 11,
   "id": "32a86c33",
   "metadata": {},
   "outputs": [
    {
     "data": {
      "text/plain": [
       "danceability        0\n",
       "energy              0\n",
       "key                 0\n",
       "loudness            0\n",
       "mode                0\n",
       "speechiness         0\n",
       "acousticness        0\n",
       "instrumentalness    0\n",
       "liveness            0\n",
       "valence             0\n",
       "tempo               0\n",
       "duration_ms         0\n",
       "explicit            0\n",
       "popularity          0\n",
       "track_name          0\n",
       "track_artist        0\n",
       "track_id            0\n",
       "dtype: int64"
      ]
     },
     "execution_count": 11,
     "metadata": {},
     "output_type": "execute_result"
    }
   ],
   "source": [
    "#just replace all the missing data with the median of the column in dataset \n",
    "median = df['mode'].median()\n",
    "df['mode']= df['mode'].replace(np.nan, median)\n",
    "  \n",
    "df.isnull().sum()"
   ]
  },
  {
   "cell_type": "code",
   "execution_count": 12,
   "id": "77adc27e",
   "metadata": {},
   "outputs": [
    {
     "name": "stdout",
     "output_type": "stream",
     "text": [
      "danceability        0\n",
      "energy              0\n",
      "key                 0\n",
      "loudness            0\n",
      "mode                0\n",
      "speechiness         0\n",
      "acousticness        0\n",
      "instrumentalness    0\n",
      "liveness            0\n",
      "valence             0\n",
      "tempo               0\n",
      "duration_ms         0\n",
      "explicit            0\n",
      "popularity          0\n",
      "track_name          0\n",
      "track_artist        0\n",
      "track_id            0\n",
      "dtype: int64\n"
     ]
    },
    {
     "data": {
      "text/plain": [
       "(10877, 17)"
      ]
     },
     "execution_count": 12,
     "metadata": {},
     "output_type": "execute_result"
    }
   ],
   "source": [
    "df = df.dropna(axis = 0, how ='any')\n",
    "  \n",
    "print(df.isnull().sum())\n",
    "df.shape"
   ]
  },
  {
   "cell_type": "markdown",
   "id": "8622f612",
   "metadata": {},
   "source": [
    "# Handling Outliers"
   ]
  },
  {
   "cell_type": "code",
   "execution_count": 22,
   "id": "e41877bb",
   "metadata": {},
   "outputs": [
    {
     "name": "stderr",
     "output_type": "stream",
     "text": [
      "C:\\Users\\hp\\anaconda3\\lib\\site-packages\\seaborn\\_decorators.py:36: FutureWarning: Pass the following variable as a keyword arg: x. From version 0.12, the only valid positional argument will be `data`, and passing other arguments without an explicit keyword will result in an error or misinterpretation.\n",
      "  warnings.warn(\n"
     ]
    },
    {
     "data": {
      "text/plain": [
       "<AxesSubplot:xlabel='tempo'>"
      ]
     },
     "execution_count": 22,
     "metadata": {},
     "output_type": "execute_result"
    },
    {
     "data": {
      "image/png": "[encoded data removed]",
      "text/plain": [
       "<Figure size 432x288 with 1 Axes>"
      ]
     },
     "metadata": {
      "needs_background": "light"
     },
     "output_type": "display_data"
    }
   ],
   "source": [
    "import seaborn as sns \n",
    "import matplotlib.pyplot as plt\n",
    "sns.boxplot(df['tempo'])"
   ]
  },
  {
   "cell_type": "code",
   "execution_count": 17,
   "id": "88a49d98",
   "metadata": {},
   "outputs": [
    {
     "ename": "TypeError",
     "evalue": "numpy boolean subtract, the `-` operator, is not supported, use the bitwise_xor, the `^` operator, or the logical_xor function instead.",
     "output_type": "error",
     "traceback": [
      "\u001b[1;31m---------------------------------------------------------------------------\u001b[0m",
      "\u001b[1;31mTypeError\u001b[0m                                 Traceback (most recent call last)",
      "\u001b[1;32m~\\AppData\\Local\\Temp/ipykernel_14180/4045519303.py\u001b[0m in \u001b[0;36m<module>\u001b[1;34m\u001b[0m\n\u001b[0;32m      7\u001b[0m     \u001b[0max\u001b[0m\u001b[1;33m=\u001b[0m\u001b[0mfig\u001b[0m\u001b[1;33m.\u001b[0m\u001b[0madd_subplot\u001b[0m\u001b[1;33m(\u001b[0m \u001b[0mrows\u001b[0m\u001b[1;33m,\u001b[0m \u001b[0mcols\u001b[0m\u001b[1;33m,\u001b[0m \u001b[0mi\u001b[0m\u001b[1;33m+\u001b[0m\u001b[1;36m1\u001b[0m\u001b[1;33m)\u001b[0m\u001b[1;33m\u001b[0m\u001b[1;33m\u001b[0m\u001b[0m\n\u001b[0;32m      8\u001b[0m \u001b[1;33m\u001b[0m\u001b[0m\n\u001b[1;32m----> 9\u001b[1;33m     \u001b[0msns\u001b[0m\u001b[1;33m.\u001b[0m\u001b[0mboxplot\u001b[0m\u001b[1;33m(\u001b[0m\u001b[0mx\u001b[0m\u001b[1;33m=\u001b[0m\u001b[0mdf\u001b[0m\u001b[1;33m[\u001b[0m\u001b[0mcol\u001b[0m\u001b[1;33m]\u001b[0m\u001b[1;33m,\u001b[0m \u001b[0max\u001b[0m\u001b[1;33m=\u001b[0m\u001b[0max\u001b[0m\u001b[1;33m)\u001b[0m\u001b[1;33m\u001b[0m\u001b[1;33m\u001b[0m\u001b[0m\n\u001b[0m\u001b[0;32m     10\u001b[0m \u001b[1;33m\u001b[0m\u001b[0m\n\u001b[0;32m     11\u001b[0m \u001b[0mfig\u001b[0m\u001b[1;33m.\u001b[0m\u001b[0mtight_layout\u001b[0m\u001b[1;33m(\u001b[0m\u001b[1;33m)\u001b[0m\u001b[1;33m\u001b[0m\u001b[1;33m\u001b[0m\u001b[0m\n",
      "\u001b[1;32m~\\anaconda3\\lib\\site-packages\\seaborn\\_decorators.py\u001b[0m in \u001b[0;36minner_f\u001b[1;34m(*args, **kwargs)\u001b[0m\n\u001b[0;32m     44\u001b[0m             )\n\u001b[0;32m     45\u001b[0m         \u001b[0mkwargs\u001b[0m\u001b[1;33m.\u001b[0m\u001b[0mupdate\u001b[0m\u001b[1;33m(\u001b[0m\u001b[1;33m{\u001b[0m\u001b[0mk\u001b[0m\u001b[1;33m:\u001b[0m \u001b[0marg\u001b[0m \u001b[1;32mfor\u001b[0m \u001b[0mk\u001b[0m\u001b[1;33m,\u001b[0m \u001b[0marg\u001b[0m \u001b[1;32min\u001b[0m \u001b[0mzip\u001b[0m\u001b[1;33m(\u001b[0m\u001b[0msig\u001b[0m\u001b[1;33m.\u001b[0m\u001b[0mparameters\u001b[0m\u001b[1;33m,\u001b[0m \u001b[0margs\u001b[0m\u001b[1;33m)\u001b[0m\u001b[1;33m}\u001b[0m\u001b[1;33m)\u001b[0m\u001b[1;33m\u001b[0m\u001b[1;33m\u001b[0m\u001b[0m\n\u001b[1;32m---> 46\u001b[1;33m         \u001b[1;32mreturn\u001b[0m \u001b[0mf\u001b[0m\u001b[1;33m(\u001b[0m\u001b[1;33m**\u001b[0m\u001b[0mkwargs\u001b[0m\u001b[1;33m)\u001b[0m\u001b[1;33m\u001b[0m\u001b[1;33m\u001b[0m\u001b[0m\n\u001b[0m\u001b[0;32m     47\u001b[0m     \u001b[1;32mreturn\u001b[0m \u001b[0minner_f\u001b[0m\u001b[1;33m\u001b[0m\u001b[1;33m\u001b[0m\u001b[0m\n\u001b[0;32m     48\u001b[0m \u001b[1;33m\u001b[0m\u001b[0m\n",
      "\u001b[1;32m~\\anaconda3\\lib\\site-packages\\seaborn\\categorical.py\u001b[0m in \u001b[0;36mboxplot\u001b[1;34m(x, y, hue, data, order, hue_order, orient, color, palette, saturation, width, dodge, fliersize, linewidth, whis, ax, **kwargs)\u001b[0m\n\u001b[0;32m   2249\u001b[0m     \u001b[0mkwargs\u001b[0m\u001b[1;33m.\u001b[0m\u001b[0mupdate\u001b[0m\u001b[1;33m(\u001b[0m\u001b[0mdict\u001b[0m\u001b[1;33m(\u001b[0m\u001b[0mwhis\u001b[0m\u001b[1;33m=\u001b[0m\u001b[0mwhis\u001b[0m\u001b[1;33m)\u001b[0m\u001b[1;33m)\u001b[0m\u001b[1;33m\u001b[0m\u001b[1;33m\u001b[0m\u001b[0m\n\u001b[0;32m   2250\u001b[0m \u001b[1;33m\u001b[0m\u001b[0m\n\u001b[1;32m-> 2251\u001b[1;33m     \u001b[0mplotter\u001b[0m\u001b[1;33m.\u001b[0m\u001b[0mplot\u001b[0m\u001b[1;33m(\u001b[0m\u001b[0max\u001b[0m\u001b[1;33m,\u001b[0m \u001b[0mkwargs\u001b[0m\u001b[1;33m)\u001b[0m\u001b[1;33m\u001b[0m\u001b[1;33m\u001b[0m\u001b[0m\n\u001b[0m\u001b[0;32m   2252\u001b[0m     \u001b[1;32mreturn\u001b[0m \u001b[0max\u001b[0m\u001b[1;33m\u001b[0m\u001b[1;33m\u001b[0m\u001b[0m\n\u001b[0;32m   2253\u001b[0m \u001b[1;33m\u001b[0m\u001b[0m\n",
      "\u001b[1;32m~\\anaconda3\\lib\\site-packages\\seaborn\\categorical.py\u001b[0m in \u001b[0;36mplot\u001b[1;34m(self, ax, boxplot_kws)\u001b[0m\n\u001b[0;32m    507\u001b[0m     \u001b[1;32mdef\u001b[0m \u001b[0mplot\u001b[0m\u001b[1;33m(\u001b[0m\u001b[0mself\u001b[0m\u001b[1;33m,\u001b[0m \u001b[0max\u001b[0m\u001b[1;33m,\u001b[0m \u001b[0mboxplot_kws\u001b[0m\u001b[1;33m)\u001b[0m\u001b[1;33m:\u001b[0m\u001b[1;33m\u001b[0m\u001b[1;33m\u001b[0m\u001b[0m\n\u001b[0;32m    508\u001b[0m         \u001b[1;34m\"\"\"Make the plot.\"\"\"\u001b[0m\u001b[1;33m\u001b[0m\u001b[1;33m\u001b[0m\u001b[0m\n\u001b[1;32m--> 509\u001b[1;33m         \u001b[0mself\u001b[0m\u001b[1;33m.\u001b[0m\u001b[0mdraw_boxplot\u001b[0m\u001b[1;33m(\u001b[0m\u001b[0max\u001b[0m\u001b[1;33m,\u001b[0m \u001b[0mboxplot_kws\u001b[0m\u001b[1;33m)\u001b[0m\u001b[1;33m\u001b[0m\u001b[1;33m\u001b[0m\u001b[0m\n\u001b[0m\u001b[0;32m    510\u001b[0m         \u001b[0mself\u001b[0m\u001b[1;33m.\u001b[0m\u001b[0mannotate_axes\u001b[0m\u001b[1;33m(\u001b[0m\u001b[0max\u001b[0m\u001b[1;33m)\u001b[0m\u001b[1;33m\u001b[0m\u001b[1;33m\u001b[0m\u001b[0m\n\u001b[0;32m    511\u001b[0m         \u001b[1;32mif\u001b[0m \u001b[0mself\u001b[0m\u001b[1;33m.\u001b[0m\u001b[0morient\u001b[0m \u001b[1;33m==\u001b[0m \u001b[1;34m\"h\"\u001b[0m\u001b[1;33m:\u001b[0m\u001b[1;33m\u001b[0m\u001b[1;33m\u001b[0m\u001b[0m\n",
      "\u001b[1;32m~\\anaconda3\\lib\\site-packages\\seaborn\\categorical.py\u001b[0m in \u001b[0;36mdraw_boxplot\u001b[1;34m(self, ax, kws)\u001b[0m\n\u001b[0;32m    439\u001b[0m                     \u001b[1;32mcontinue\u001b[0m\u001b[1;33m\u001b[0m\u001b[1;33m\u001b[0m\u001b[0m\n\u001b[0;32m    440\u001b[0m \u001b[1;33m\u001b[0m\u001b[0m\n\u001b[1;32m--> 441\u001b[1;33m                 artist_dict = ax.boxplot(box_data,\n\u001b[0m\u001b[0;32m    442\u001b[0m                                          \u001b[0mvert\u001b[0m\u001b[1;33m=\u001b[0m\u001b[0mvert\u001b[0m\u001b[1;33m,\u001b[0m\u001b[1;33m\u001b[0m\u001b[1;33m\u001b[0m\u001b[0m\n\u001b[0;32m    443\u001b[0m                                          \u001b[0mpatch_artist\u001b[0m\u001b[1;33m=\u001b[0m\u001b[1;32mTrue\u001b[0m\u001b[1;33m,\u001b[0m\u001b[1;33m\u001b[0m\u001b[1;33m\u001b[0m\u001b[0m\n",
      "\u001b[1;32m~\\anaconda3\\lib\\site-packages\\matplotlib\\__init__.py\u001b[0m in \u001b[0;36minner\u001b[1;34m(ax, data, *args, **kwargs)\u001b[0m\n\u001b[0;32m   1359\u001b[0m     \u001b[1;32mdef\u001b[0m \u001b[0minner\u001b[0m\u001b[1;33m(\u001b[0m\u001b[0max\u001b[0m\u001b[1;33m,\u001b[0m \u001b[1;33m*\u001b[0m\u001b[0margs\u001b[0m\u001b[1;33m,\u001b[0m \u001b[0mdata\u001b[0m\u001b[1;33m=\u001b[0m\u001b[1;32mNone\u001b[0m\u001b[1;33m,\u001b[0m \u001b[1;33m**\u001b[0m\u001b[0mkwargs\u001b[0m\u001b[1;33m)\u001b[0m\u001b[1;33m:\u001b[0m\u001b[1;33m\u001b[0m\u001b[1;33m\u001b[0m\u001b[0m\n\u001b[0;32m   1360\u001b[0m         \u001b[1;32mif\u001b[0m \u001b[0mdata\u001b[0m \u001b[1;32mis\u001b[0m \u001b[1;32mNone\u001b[0m\u001b[1;33m:\u001b[0m\u001b[1;33m\u001b[0m\u001b[1;33m\u001b[0m\u001b[0m\n\u001b[1;32m-> 1361\u001b[1;33m             \u001b[1;32mreturn\u001b[0m \u001b[0mfunc\u001b[0m\u001b[1;33m(\u001b[0m\u001b[0max\u001b[0m\u001b[1;33m,\u001b[0m \u001b[1;33m*\u001b[0m\u001b[0mmap\u001b[0m\u001b[1;33m(\u001b[0m\u001b[0msanitize_sequence\u001b[0m\u001b[1;33m,\u001b[0m \u001b[0margs\u001b[0m\u001b[1;33m)\u001b[0m\u001b[1;33m,\u001b[0m \u001b[1;33m**\u001b[0m\u001b[0mkwargs\u001b[0m\u001b[1;33m)\u001b[0m\u001b[1;33m\u001b[0m\u001b[1;33m\u001b[0m\u001b[0m\n\u001b[0m\u001b[0;32m   1362\u001b[0m \u001b[1;33m\u001b[0m\u001b[0m\n\u001b[0;32m   1363\u001b[0m         \u001b[0mbound\u001b[0m \u001b[1;33m=\u001b[0m \u001b[0mnew_sig\u001b[0m\u001b[1;33m.\u001b[0m\u001b[0mbind\u001b[0m\u001b[1;33m(\u001b[0m\u001b[0max\u001b[0m\u001b[1;33m,\u001b[0m \u001b[1;33m*\u001b[0m\u001b[0margs\u001b[0m\u001b[1;33m,\u001b[0m \u001b[1;33m**\u001b[0m\u001b[0mkwargs\u001b[0m\u001b[1;33m)\u001b[0m\u001b[1;33m\u001b[0m\u001b[1;33m\u001b[0m\u001b[0m\n",
      "\u001b[1;32m~\\anaconda3\\lib\\site-packages\\matplotlib\\axes\\_axes.py\u001b[0m in \u001b[0;36mboxplot\u001b[1;34m(self, x, notch, sym, vert, whis, positions, widths, patch_artist, bootstrap, usermedians, conf_intervals, meanline, showmeans, showcaps, showbox, showfliers, boxprops, labels, flierprops, medianprops, meanprops, capprops, whiskerprops, manage_ticks, autorange, zorder)\u001b[0m\n\u001b[0;32m   3743\u001b[0m             \u001b[0mbootstrap\u001b[0m \u001b[1;33m=\u001b[0m \u001b[0mrcParams\u001b[0m\u001b[1;33m[\u001b[0m\u001b[1;34m'boxplot.bootstrap'\u001b[0m\u001b[1;33m]\u001b[0m\u001b[1;33m\u001b[0m\u001b[1;33m\u001b[0m\u001b[0m\n\u001b[0;32m   3744\u001b[0m \u001b[1;33m\u001b[0m\u001b[0m\n\u001b[1;32m-> 3745\u001b[1;33m         bxpstats = cbook.boxplot_stats(x, whis=whis, bootstrap=bootstrap,\n\u001b[0m\u001b[0;32m   3746\u001b[0m                                        labels=labels, autorange=autorange)\n\u001b[0;32m   3747\u001b[0m         \u001b[1;32mif\u001b[0m \u001b[0mnotch\u001b[0m \u001b[1;32mis\u001b[0m \u001b[1;32mNone\u001b[0m\u001b[1;33m:\u001b[0m\u001b[1;33m\u001b[0m\u001b[1;33m\u001b[0m\u001b[0m\n",
      "\u001b[1;32m~\\anaconda3\\lib\\site-packages\\matplotlib\\cbook\\__init__.py\u001b[0m in \u001b[0;36mboxplot_stats\u001b[1;34m(X, whis, bootstrap, labels, autorange)\u001b[0m\n\u001b[0;32m   1231\u001b[0m \u001b[1;33m\u001b[0m\u001b[0m\n\u001b[0;32m   1232\u001b[0m         \u001b[1;31m# medians and quartiles\u001b[0m\u001b[1;33m\u001b[0m\u001b[1;33m\u001b[0m\u001b[0m\n\u001b[1;32m-> 1233\u001b[1;33m         \u001b[0mq1\u001b[0m\u001b[1;33m,\u001b[0m \u001b[0mmed\u001b[0m\u001b[1;33m,\u001b[0m \u001b[0mq3\u001b[0m \u001b[1;33m=\u001b[0m \u001b[0mnp\u001b[0m\u001b[1;33m.\u001b[0m\u001b[0mpercentile\u001b[0m\u001b[1;33m(\u001b[0m\u001b[0mx\u001b[0m\u001b[1;33m,\u001b[0m \u001b[1;33m[\u001b[0m\u001b[1;36m25\u001b[0m\u001b[1;33m,\u001b[0m \u001b[1;36m50\u001b[0m\u001b[1;33m,\u001b[0m \u001b[1;36m75\u001b[0m\u001b[1;33m]\u001b[0m\u001b[1;33m)\u001b[0m\u001b[1;33m\u001b[0m\u001b[1;33m\u001b[0m\u001b[0m\n\u001b[0m\u001b[0;32m   1234\u001b[0m \u001b[1;33m\u001b[0m\u001b[0m\n\u001b[0;32m   1235\u001b[0m         \u001b[1;31m# interquartile range\u001b[0m\u001b[1;33m\u001b[0m\u001b[1;33m\u001b[0m\u001b[0m\n",
      "\u001b[1;32m<__array_function__ internals>\u001b[0m in \u001b[0;36mpercentile\u001b[1;34m(*args, **kwargs)\u001b[0m\n",
      "\u001b[1;32m~\\anaconda3\\lib\\site-packages\\numpy\\lib\\function_base.py\u001b[0m in \u001b[0;36mpercentile\u001b[1;34m(a, q, axis, out, overwrite_input, interpolation, keepdims)\u001b[0m\n\u001b[0;32m   3816\u001b[0m     \u001b[1;32mif\u001b[0m \u001b[1;32mnot\u001b[0m \u001b[0m_quantile_is_valid\u001b[0m\u001b[1;33m(\u001b[0m\u001b[0mq\u001b[0m\u001b[1;33m)\u001b[0m\u001b[1;33m:\u001b[0m\u001b[1;33m\u001b[0m\u001b[1;33m\u001b[0m\u001b[0m\n\u001b[0;32m   3817\u001b[0m         \u001b[1;32mraise\u001b[0m \u001b[0mValueError\u001b[0m\u001b[1;33m(\u001b[0m\u001b[1;34m\"Percentiles must be in the range [0, 100]\"\u001b[0m\u001b[1;33m)\u001b[0m\u001b[1;33m\u001b[0m\u001b[1;33m\u001b[0m\u001b[0m\n\u001b[1;32m-> 3818\u001b[1;33m     return _quantile_unchecked(\n\u001b[0m\u001b[0;32m   3819\u001b[0m         a, q, axis, out, overwrite_input, interpolation, keepdims)\n\u001b[0;32m   3820\u001b[0m \u001b[1;33m\u001b[0m\u001b[0m\n",
      "\u001b[1;32m~\\anaconda3\\lib\\site-packages\\numpy\\lib\\function_base.py\u001b[0m in \u001b[0;36m_quantile_unchecked\u001b[1;34m(a, q, axis, out, overwrite_input, interpolation, keepdims)\u001b[0m\n\u001b[0;32m   3935\u001b[0m                         interpolation='linear', keepdims=False):\n\u001b[0;32m   3936\u001b[0m     \u001b[1;34m\"\"\"Assumes that q is in [0, 1], and is an ndarray\"\"\"\u001b[0m\u001b[1;33m\u001b[0m\u001b[1;33m\u001b[0m\u001b[0m\n\u001b[1;32m-> 3937\u001b[1;33m     r, k = _ureduce(a, func=_quantile_ureduce_func, q=q, axis=axis, out=out,\n\u001b[0m\u001b[0;32m   3938\u001b[0m                     \u001b[0moverwrite_input\u001b[0m\u001b[1;33m=\u001b[0m\u001b[0moverwrite_input\u001b[0m\u001b[1;33m,\u001b[0m\u001b[1;33m\u001b[0m\u001b[1;33m\u001b[0m\u001b[0m\n\u001b[0;32m   3939\u001b[0m                     interpolation=interpolation)\n",
      "\u001b[1;32m~\\anaconda3\\lib\\site-packages\\numpy\\lib\\function_base.py\u001b[0m in \u001b[0;36m_ureduce\u001b[1;34m(a, func, **kwargs)\u001b[0m\n\u001b[0;32m   3513\u001b[0m         \u001b[0mkeepdim\u001b[0m \u001b[1;33m=\u001b[0m \u001b[1;33m(\u001b[0m\u001b[1;36m1\u001b[0m\u001b[1;33m,\u001b[0m\u001b[1;33m)\u001b[0m \u001b[1;33m*\u001b[0m \u001b[0ma\u001b[0m\u001b[1;33m.\u001b[0m\u001b[0mndim\u001b[0m\u001b[1;33m\u001b[0m\u001b[1;33m\u001b[0m\u001b[0m\n\u001b[0;32m   3514\u001b[0m \u001b[1;33m\u001b[0m\u001b[0m\n\u001b[1;32m-> 3515\u001b[1;33m     \u001b[0mr\u001b[0m \u001b[1;33m=\u001b[0m \u001b[0mfunc\u001b[0m\u001b[1;33m(\u001b[0m\u001b[0ma\u001b[0m\u001b[1;33m,\u001b[0m \u001b[1;33m**\u001b[0m\u001b[0mkwargs\u001b[0m\u001b[1;33m)\u001b[0m\u001b[1;33m\u001b[0m\u001b[1;33m\u001b[0m\u001b[0m\n\u001b[0m\u001b[0;32m   3516\u001b[0m     \u001b[1;32mreturn\u001b[0m \u001b[0mr\u001b[0m\u001b[1;33m,\u001b[0m \u001b[0mkeepdim\u001b[0m\u001b[1;33m\u001b[0m\u001b[1;33m\u001b[0m\u001b[0m\n\u001b[0;32m   3517\u001b[0m \u001b[1;33m\u001b[0m\u001b[0m\n",
      "\u001b[1;32m~\\anaconda3\\lib\\site-packages\\numpy\\lib\\function_base.py\u001b[0m in \u001b[0;36m_quantile_ureduce_func\u001b[1;34m(***failed resolving arguments***)\u001b[0m\n\u001b[0;32m   4062\u001b[0m         \u001b[0mx_above\u001b[0m \u001b[1;33m=\u001b[0m \u001b[0mtake\u001b[0m\u001b[1;33m(\u001b[0m\u001b[0map\u001b[0m\u001b[1;33m,\u001b[0m \u001b[0mindices_above\u001b[0m\u001b[1;33m,\u001b[0m \u001b[0maxis\u001b[0m\u001b[1;33m=\u001b[0m\u001b[1;36m0\u001b[0m\u001b[1;33m)\u001b[0m\u001b[1;33m\u001b[0m\u001b[1;33m\u001b[0m\u001b[0m\n\u001b[0;32m   4063\u001b[0m \u001b[1;33m\u001b[0m\u001b[0m\n\u001b[1;32m-> 4064\u001b[1;33m         \u001b[0mr\u001b[0m \u001b[1;33m=\u001b[0m \u001b[0m_lerp\u001b[0m\u001b[1;33m(\u001b[0m\u001b[0mx_below\u001b[0m\u001b[1;33m,\u001b[0m \u001b[0mx_above\u001b[0m\u001b[1;33m,\u001b[0m \u001b[0mweights_above\u001b[0m\u001b[1;33m,\u001b[0m \u001b[0mout\u001b[0m\u001b[1;33m=\u001b[0m\u001b[0mout\u001b[0m\u001b[1;33m)\u001b[0m\u001b[1;33m\u001b[0m\u001b[1;33m\u001b[0m\u001b[0m\n\u001b[0m\u001b[0;32m   4065\u001b[0m \u001b[1;33m\u001b[0m\u001b[0m\n\u001b[0;32m   4066\u001b[0m     \u001b[1;31m# if any slice contained a nan, then all results on that slice are also nan\u001b[0m\u001b[1;33m\u001b[0m\u001b[1;33m\u001b[0m\u001b[0m\n",
      "\u001b[1;32m~\\anaconda3\\lib\\site-packages\\numpy\\lib\\function_base.py\u001b[0m in \u001b[0;36m_lerp\u001b[1;34m(a, b, t, out)\u001b[0m\n\u001b[0;32m   3959\u001b[0m \u001b[1;32mdef\u001b[0m \u001b[0m_lerp\u001b[0m\u001b[1;33m(\u001b[0m\u001b[0ma\u001b[0m\u001b[1;33m,\u001b[0m \u001b[0mb\u001b[0m\u001b[1;33m,\u001b[0m \u001b[0mt\u001b[0m\u001b[1;33m,\u001b[0m \u001b[0mout\u001b[0m\u001b[1;33m=\u001b[0m\u001b[1;32mNone\u001b[0m\u001b[1;33m)\u001b[0m\u001b[1;33m:\u001b[0m\u001b[1;33m\u001b[0m\u001b[1;33m\u001b[0m\u001b[0m\n\u001b[0;32m   3960\u001b[0m     \u001b[1;34m\"\"\" Linearly interpolate from a to b by a factor of t \"\"\"\u001b[0m\u001b[1;33m\u001b[0m\u001b[1;33m\u001b[0m\u001b[0m\n\u001b[1;32m-> 3961\u001b[1;33m     \u001b[0mdiff_b_a\u001b[0m \u001b[1;33m=\u001b[0m \u001b[0msubtract\u001b[0m\u001b[1;33m(\u001b[0m\u001b[0mb\u001b[0m\u001b[1;33m,\u001b[0m \u001b[0ma\u001b[0m\u001b[1;33m)\u001b[0m\u001b[1;33m\u001b[0m\u001b[1;33m\u001b[0m\u001b[0m\n\u001b[0m\u001b[0;32m   3962\u001b[0m     \u001b[1;31m# asanyarray is a stop-gap until gh-13105\u001b[0m\u001b[1;33m\u001b[0m\u001b[1;33m\u001b[0m\u001b[0m\n\u001b[0;32m   3963\u001b[0m     \u001b[0mlerp_interpolation\u001b[0m \u001b[1;33m=\u001b[0m \u001b[0masanyarray\u001b[0m\u001b[1;33m(\u001b[0m\u001b[0madd\u001b[0m\u001b[1;33m(\u001b[0m\u001b[0ma\u001b[0m\u001b[1;33m,\u001b[0m \u001b[0mdiff_b_a\u001b[0m\u001b[1;33m*\u001b[0m\u001b[0mt\u001b[0m\u001b[1;33m,\u001b[0m \u001b[0mout\u001b[0m\u001b[1;33m=\u001b[0m\u001b[0mout\u001b[0m\u001b[1;33m)\u001b[0m\u001b[1;33m)\u001b[0m\u001b[1;33m\u001b[0m\u001b[1;33m\u001b[0m\u001b[0m\n",
      "\u001b[1;31mTypeError\u001b[0m: numpy boolean subtract, the `-` operator, is not supported, use the bitwise_xor, the `^` operator, or the logical_xor function instead."
     ]
    },
    {
     "data": {
      "image/png": "[encoded data removed]",
      "text/plain": [
       "<Figure size 1440x720 with 13 Axes>"
      ]
     },
     "metadata": {
      "needs_background": "light"
     },
     "output_type": "display_data"
    }
   ],
   "source": [
    "cols = 5\n",
    "rows = 5\n",
    "num_cols = df.select_dtypes(exclude='object').columns\n",
    "fig = plt.figure(figsize= (20,10))\n",
    "for i, col in enumerate(num_cols):\n",
    "    \n",
    "    ax=fig.add_subplot( rows, cols, i+1)\n",
    "    \n",
    "    sns.boxplot(x=df[col], ax=ax)\n",
    "    \n",
    "fig.tight_layout()  \n",
    "plt.show()\n",
    "\n",
    "\n",
    "#Here, the numerical columns must be selected in order to visualise the histplot. For that, Datatypes like 'Object'\n",
    "#(i.e, categorical) need to be excluded from the process of importing.\n",
    "# Note: 'plt.show()' is a mandatory command in order to print the executed process."
   ]
  },
  {
   "cell_type": "code",
   "execution_count": 15,
   "id": "2a66c2bf",
   "metadata": {},
   "outputs": [
    {
     "name": "stdout",
     "output_type": "stream",
     "text": [
      "(array([  265,   575,   767,   871,  1067,  1565,  1928,  2052,  2659,\n",
      "        2868,  3175,  3210,  3303,  3612,  3625,  3632,  3704,  3897,\n",
      "        3948,  4271,  4513,  5376,  5540,  5671,  5692,  5707,  5761,\n",
      "        5837,  5989,  6459,  6646,  6649,  6802,  6926,  6998,  7045,\n",
      "        7080,  7107,  7219,  7222,  7322,  7384,  7583,  7705,  7853,\n",
      "        7857,  8037,  8132,  8158,  8412,  8631,  8633,  8636,  8637,\n",
      "        8639,  8640,  8698,  8699,  8780,  9062,  9094,  9537,  9554,\n",
      "        9751,  9918,  9928,  9985, 10037, 10039, 10106, 10216, 10527],\n",
      "      dtype=int64),)\n"
     ]
    }
   ],
   "source": [
    "print(np.where(df['tempo']>200))"
   ]
  },
  {
   "cell_type": "code",
   "execution_count": 25,
   "id": "c396196c",
   "metadata": {},
   "outputs": [
    {
     "data": {
      "image/png": "[encoded data removed]",
      "text/plain": [
       "<Figure size 576x720 with 1 Axes>"
      ]
     },
     "metadata": {
      "needs_background": "light"
     },
     "output_type": "display_data"
    }
   ],
   "source": [
    "#scatter plot\n",
    "fig, ax = plt.subplots(figsize = (8,10))\n",
    "ax.scatter(df['tempo'], df['loudness'])\n",
    " \n",
    "\n",
    "ax.set_xlabel(\"x_axis\")\n",
    "\n",
    "ax.set_ylabel(\"y_axis\")\n",
    "plt.show()"
   ]
  },
  {
   "cell_type": "code",
   "execution_count": 27,
   "id": "6522a1da",
   "metadata": {},
   "outputs": [
    {
     "name": "stdout",
     "output_type": "stream",
     "text": [
      "(array([  265,   575,   767,   871,  1067,  1565,  1928,  2052,  2659,\n",
      "        2868,  3175,  3210,  3303,  3632,  3704,  3897,  3948,  4271,\n",
      "        4513,  5376,  5540,  5671,  5692,  5707,  5761,  5837,  5989,\n",
      "        6459,  6646,  6649,  6802,  6926,  6998,  7045,  7080,  7107,\n",
      "        7219,  7222,  7322,  7384,  7583,  7705,  7853,  7857,  8132,\n",
      "        8158,  8412,  8631,  8633,  8636,  8637,  8639,  8640,  8698,\n",
      "        8699,  8780,  9062,  9094,  9537,  9554,  9751,  9918,  9928,\n",
      "        9985, 10037, 10039, 10106, 10216, 10527], dtype=int64),)\n"
     ]
    }
   ],
   "source": [
    "print(np.where((df['tempo']>200) & (df['loudness']>-20)))"
   ]
  },
  {
   "cell_type": "code",
   "execution_count": 31,
   "id": "dd60517c",
   "metadata": {},
   "outputs": [
    {
     "name": "stdout",
     "output_type": "stream",
     "text": [
      "45.938\n",
      "138.934\n",
      "92.996\n"
     ]
    }
   ],
   "source": [
    "#IQR\n",
    "Q1 = np.percentile(df['tempo'], 25,\n",
    "                   interpolation = 'midpoint')\n",
    " \n",
    "Q3 = np.percentile(df['tempo'], 75,\n",
    "                   interpolation = 'midpoint')\n",
    "IQR = Q3 - Q1\n",
    "print(IQR)\n",
    "print(Q3)\n",
    "print(Q1)"
   ]
  },
  {
   "cell_type": "code",
   "execution_count": 32,
   "id": "da370bde",
   "metadata": {},
   "outputs": [
    {
     "name": "stdout",
     "output_type": "stream",
     "text": [
      "Upper bound: 0        False\n",
      "1        False\n",
      "2        False\n",
      "3        False\n",
      "4        False\n",
      "         ...  \n",
      "10872    False\n",
      "10873    False\n",
      "10874    False\n",
      "10875    False\n",
      "10876    False\n",
      "Name: tempo, Length: 10877, dtype: bool\n",
      "(array([  767,  3303,  3612,  3625,  3632,  3897,  5671,  5989,  6646,\n",
      "        7080,  7384,  8132,  8158,  9062, 10216], dtype=int64),)\n",
      "Lower bound: 0        False\n",
      "1        False\n",
      "2        False\n",
      "3        False\n",
      "4        False\n",
      "         ...  \n",
      "10872    False\n",
      "10873    False\n",
      "10874    False\n",
      "10875    False\n",
      "10876    False\n",
      "Name: tempo, Length: 10877, dtype: bool\n",
      "(array([ 544,  545, 2837, 2922, 3882, 3907, 3975, 3996, 4486, 4488, 5788,\n",
      "       5926, 7218, 8130, 8136, 8148, 9186, 9264, 9726], dtype=int64),)\n"
     ]
    }
   ],
   "source": [
    "upper = df['tempo'] >= (Q3+1.5*IQR)\n",
    " \n",
    "print(\"Upper bound:\",upper)\n",
    "print(np.where(upper))\n",
    " \n",
    "lower = df['tempo'] <= (Q1-1.5*IQR)\n",
    "print(\"Lower bound:\", lower)\n",
    "print(np.where(lower))"
   ]
  },
  {
   "cell_type": "markdown",
   "id": "3afd5472",
   "metadata": {},
   "source": [
    "# Univariate Analysis"
   ]
  },
  {
   "cell_type": "markdown",
   "id": "0999ee49",
   "metadata": {},
   "source": [
    "### Categorical columns"
   ]
  },
  {
   "cell_type": "markdown",
   "id": "bcd684e3",
   "metadata": {},
   "source": [
    "#### value_count \n",
    "counting the values in dataset variable "
   ]
  },
  {
   "cell_type": "code",
   "execution_count": 11,
   "id": "46f4e6e5",
   "metadata": {},
   "outputs": [
    {
     "data": {
      "text/plain": [
       "Alei Islah                               75\n",
       "Ocean Sounds                             70\n",
       "Blackjesus Yoshua                        58\n",
       "Native American Flute                    50\n",
       "Sounds Of Nature : Thunderstorm, Rain    50\n",
       "                                         ..\n",
       "Grupo Vision                              1\n",
       "Dj Pinpon                                 1\n",
       "Mariachi los Vargas de Arturo Mendoza     1\n",
       "Elias Torres y su guitarra                1\n",
       "Talen Talea                               1\n",
       "Name: track_artist, Length: 2057, dtype: int64"
      ]
     },
     "execution_count": 11,
     "metadata": {},
     "output_type": "execute_result"
    }
   ],
   "source": [
    "df['track_artist'].value_counts()"
   ]
  },
  {
   "cell_type": "code",
   "execution_count": 4,
   "id": "818f8958",
   "metadata": {},
   "outputs": [
    {
     "data": {
      "text/plain": [
       "Intro                    24\n",
       "Outro                     9\n",
       "Freestyle                 7\n",
       "Home                      6\n",
       "Hold On                   5\n",
       "                         ..\n",
       "Fiesta                    1\n",
       "The Artisanal Plumber     1\n",
       "Hindsight                 1\n",
       "Pout                      1\n",
       "Goodnight                 1\n",
       "Name: track_name, Length: 10447, dtype: int64"
      ]
     },
     "execution_count": 4,
     "metadata": {},
     "output_type": "execute_result"
    }
   ],
   "source": [
    "df['track_name'].value_counts()"
   ]
  },
  {
   "cell_type": "markdown",
   "id": "95ab251f",
   "metadata": {},
   "source": [
    "#### bar chart \n",
    "The bar plot is a univariate data visualization plot on a two-dimensional axis. One axis is the category axis indicating the category, while the second axis is the value axis that shows the numeric value of that category, indicated by the length of the bar."
   ]
  },
  {
   "cell_type": "code",
   "execution_count": 21,
   "id": "60e60bcc",
   "metadata": {},
   "outputs": [
    {
     "data": {
      "text/plain": [
       "<AxesSubplot:>"
      ]
     },
     "execution_count": 21,
     "metadata": {},
     "output_type": "execute_result"
    },
    {
     "data": {
      "image/png": "[encoded data removed]",
      "text/plain": [
       "<Figure size 432x288 with 1 Axes>"
      ]
     },
     "metadata": {
      "needs_background": "light"
     },
     "output_type": "display_data"
    }
   ],
   "source": [
    "df['key'].value_counts().plot.bar()"
   ]
  },
  {
   "cell_type": "code",
   "execution_count": 22,
   "id": "7ea6a792",
   "metadata": {},
   "outputs": [
    {
     "name": "stderr",
     "output_type": "stream",
     "text": [
      "C:\\Users\\hp\\anaconda3\\lib\\site-packages\\seaborn\\_decorators.py:36: FutureWarning: Pass the following variable as a keyword arg: x. From version 0.12, the only valid positional argument will be `data`, and passing other arguments without an explicit keyword will result in an error or misinterpretation.\n",
      "  warnings.warn(\n"
     ]
    },
    {
     "data": {
      "text/plain": [
       "<AxesSubplot:xlabel='key', ylabel='count'>"
      ]
     },
     "execution_count": 22,
     "metadata": {},
     "output_type": "execute_result"
    },
    {
     "data": {
      "image/png": "[encoded data removed]",
      "text/plain": [
       "<Figure size 432x288 with 1 Axes>"
      ]
     },
     "metadata": {
      "needs_background": "light"
     },
     "output_type": "display_data"
    }
   ],
   "source": [
    "#countplot\n",
    "sns.countplot(df['key'])"
   ]
  },
  {
   "cell_type": "markdown",
   "id": "1f94581d",
   "metadata": {},
   "source": [
    "#### pie chart\n",
    "A pie chart is the most common way used to visualize the numerical proportion occupied by each of the categories."
   ]
  },
  {
   "cell_type": "code",
   "execution_count": 27,
   "id": "5b8fc443",
   "metadata": {},
   "outputs": [
    {
     "data": {
      "image/png": "[encoded data removed]",
      "text/plain": [
       "<Figure size 432x288 with 1 Axes>"
      ]
     },
     "metadata": {},
     "output_type": "display_data"
    }
   ],
   "source": [
    "df['key'].value_counts().plot(kind=\"pie\", autopct=\"%.0f%%\")\n",
    "plt.show()"
   ]
  },
  {
   "cell_type": "markdown",
   "id": "f8989f9c",
   "metadata": {},
   "source": [
    "### continuous columns"
   ]
  },
  {
   "cell_type": "markdown",
   "id": "73c27145",
   "metadata": {},
   "source": [
    "#### histogram\n",
    "A histogram is a value distribution plot of numerical columns. It basically creates bins in various ranges in values and plots it where we can visualize how values are distributed. We can have a look where more values lie like in positive, negative, or at the center(mean)."
   ]
  },
  {
   "cell_type": "code",
   "execution_count": 9,
   "id": "c6a4f45a",
   "metadata": {},
   "outputs": [
    {
     "data": {
      "image/png": "[encoded data removed]",
      "text/plain": [
       "<Figure size 432x288 with 1 Axes>"
      ]
     },
     "metadata": {
      "needs_background": "light"
     },
     "output_type": "display_data"
    }
   ],
   "source": [
    "plt.hist(df['key'], bins=10)\n",
    "plt.show()"
   ]
  },
  {
   "cell_type": "markdown",
   "id": "1f9b86ec",
   "metadata": {},
   "source": [
    "#### Dist plot \n",
    "Distplot is also known as the second Histogram because it is a slight improvement version of the Histogram. Distplot gives us a KDE(Kernel Density Estimation) over histogram which explains PDF(Probability Density Function) which means what is the probability of each value occurring in this column."
   ]
  },
  {
   "cell_type": "code",
   "execution_count": 11,
   "id": "f5581b8a",
   "metadata": {},
   "outputs": [
    {
     "name": "stderr",
     "output_type": "stream",
     "text": [
      "C:\\Users\\hp\\anaconda3\\lib\\site-packages\\seaborn\\distributions.py:2619: FutureWarning: `distplot` is a deprecated function and will be removed in a future version. Please adapt your code to use either `displot` (a figure-level function with similar flexibility) or `histplot` (an axes-level function for histograms).\n",
      "  warnings.warn(msg, FutureWarning)\n"
     ]
    },
    {
     "data": {
      "image/png": "[encoded data removed]",
      "text/plain": [
       "<Figure size 432x288 with 1 Axes>"
      ]
     },
     "metadata": {
      "needs_background": "light"
     },
     "output_type": "display_data"
    }
   ],
   "source": [
    "sns.distplot(df['key'])\n",
    "plt.show()"
   ]
  },
  {
   "cell_type": "markdown",
   "id": "0b171514",
   "metadata": {},
   "source": [
    "# Bivariate Analysis "
   ]
  },
  {
   "cell_type": "markdown",
   "id": "5901bbbf",
   "metadata": {},
   "source": [
    "### Categorical vs. Numerical columns"
   ]
  },
  {
   "cell_type": "markdown",
   "id": "7027b5a0",
   "metadata": {},
   "source": [
    "#### Box plot \n",
    "Boxplot is a very interesting plot that basically plots a 5 number summary."
   ]
  },
  {
   "cell_type": "code",
   "execution_count": 16,
   "id": "f96e7cf7",
   "metadata": {},
   "outputs": [
    {
     "name": "stderr",
     "output_type": "stream",
     "text": [
      "C:\\Users\\hp\\anaconda3\\lib\\site-packages\\seaborn\\_decorators.py:36: FutureWarning: Pass the following variable as a keyword arg: x. From version 0.12, the only valid positional argument will be `data`, and passing other arguments without an explicit keyword will result in an error or misinterpretation.\n",
      "  warnings.warn(\n"
     ]
    },
    {
     "data": {
      "text/plain": [
       "<AxesSubplot:xlabel='duration_ms'>"
      ]
     },
     "execution_count": 16,
     "metadata": {},
     "output_type": "execute_result"
    },
    {
     "data": {
      "image/png": "[encoded data removed]",
      "text/plain": [
       "<Figure size 432x288 with 1 Axes>"
      ]
     },
     "metadata": {
      "needs_background": "light"
     },
     "output_type": "display_data"
    }
   ],
   "source": [
    "sns.boxplot(df['duration_ms'])"
   ]
  },
  {
   "cell_type": "code",
   "execution_count": 17,
   "id": "1a283228",
   "metadata": {},
   "outputs": [
    {
     "name": "stdout",
     "output_type": "stream",
     "text": [
      "(array([    0,     1,     2, ..., 10874, 10875, 10876], dtype=int64),)\n"
     ]
    }
   ],
   "source": [
    "print(np.where(df['duration_ms']>0.5))"
   ]
  },
  {
   "cell_type": "markdown",
   "id": "456855bc",
   "metadata": {},
   "source": [
    "#### Minimum and Maximum of IQR\n",
    "These are not minimum and maximum values, rather they describe the lower and upper boundary of standard deviation which is calculated using Interquartile range(IQR)."
   ]
  },
  {
   "cell_type": "code",
   "execution_count": 21,
   "id": "fb378ca9",
   "metadata": {},
   "outputs": [
    {
     "name": "stdout",
     "output_type": "stream",
     "text": [
      "7.0\n",
      "9.0\n",
      "2.0\n"
     ]
    }
   ],
   "source": [
    "Q1 = np.percentile(df['key'], 25,\n",
    "                   interpolation = 'midpoint')\n",
    " \n",
    "Q3 = np.percentile(df['key'], 75,\n",
    "                   interpolation = 'midpoint')\n",
    "IQR = Q3 - Q1\n",
    "print(IQR)\n",
    "print(Q3)\n",
    "print(Q1)"
   ]
  },
  {
   "cell_type": "code",
   "execution_count": 22,
   "id": "62862d74",
   "metadata": {},
   "outputs": [
    {
     "name": "stdout",
     "output_type": "stream",
     "text": [
      "Upper bound: 0        False\n",
      "1        False\n",
      "2        False\n",
      "3        False\n",
      "4        False\n",
      "         ...  \n",
      "10872    False\n",
      "10873    False\n",
      "10874    False\n",
      "10875    False\n",
      "10876    False\n",
      "Name: key, Length: 10877, dtype: bool\n",
      "(array([], dtype=int64),)\n",
      "Lower bound: 0        False\n",
      "1        False\n",
      "2        False\n",
      "3        False\n",
      "4        False\n",
      "         ...  \n",
      "10872    False\n",
      "10873    False\n",
      "10874    False\n",
      "10875    False\n",
      "10876    False\n",
      "Name: key, Length: 10877, dtype: bool\n",
      "(array([], dtype=int64),)\n"
     ]
    }
   ],
   "source": [
    "upper = df['key'] >= (Q3+1.5*IQR)\n",
    " \n",
    "print(\"Upper bound:\",upper)\n",
    "print(np.where(upper))\n",
    " \n",
    "lower = df['key'] <= (Q1-1.5*IQR)\n",
    "print(\"Lower bound:\", lower)\n",
    "print(np.where(lower))"
   ]
  },
  {
   "cell_type": "markdown",
   "id": "96e6e16a",
   "metadata": {},
   "source": [
    "#### bar plot \n",
    "Bar plot is a simple plot which we can use to plot categorical variable on the x-axis and numerical variable on y-axis and explore the relationship between both variables."
   ]
  },
  {
   "cell_type": "code",
   "execution_count": 24,
   "id": "2292c2b9",
   "metadata": {},
   "outputs": [
    {
     "name": "stderr",
     "output_type": "stream",
     "text": [
      "C:\\Users\\hp\\anaconda3\\lib\\site-packages\\seaborn\\_decorators.py:36: FutureWarning: Pass the following variables as keyword args: x, y. From version 0.12, the only valid positional argument will be `data`, and passing other arguments without an explicit keyword will result in an error or misinterpretation.\n",
      "  warnings.warn(\n"
     ]
    },
    {
     "data": {
      "image/png": "[encoded data removed]",
      "text/plain": [
       "<Figure size 432x288 with 1 Axes>"
      ]
     },
     "metadata": {
      "needs_background": "light"
     },
     "output_type": "display_data"
    }
   ],
   "source": [
    "sns.barplot(df['key'],df['mode'])\n",
    "plt.show()"
   ]
  },
  {
   "cell_type": "markdown",
   "id": "d061d194",
   "metadata": {},
   "source": [
    "#### Multivariate analysis using Bar plot"
   ]
  },
  {
   "cell_type": "code",
   "execution_count": null,
   "id": "d78a9487",
   "metadata": {},
   "outputs": [],
   "source": [
    "sns.barplot(df[''])"
   ]
  }
 ],
 "metadata": {
  "kernelspec": {
   "display_name": "Python 3 (ipykernel)",
   "language": "python",
   "name": "python3"
  },
  "language_info": {
   "codemirror_mode": {
    "name": "ipython",
    "version": 3
   },
   "file_extension": ".py",
   "mimetype": "text/x-python",
   "name": "python",
   "nbconvert_exporter": "python",
   "pygments_lexer": "ipython3",
   "version": "3.9.7"
  }
 },
 "nbformat": 4,
 "nbformat_minor": 5
}
